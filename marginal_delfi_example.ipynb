{
  "nbformat": 4,
  "nbformat_minor": 0,
  "metadata": {
    "colab": {
      "name": "marginal_delfi_example.ipynb",
      "provenance": [],
      "toc_visible": true,
      "authorship_tag": "ABX9TyMc6HZ+xJqjV9GbUJzfMCvq",
      "include_colab_link": true
    },
    "kernelspec": {
      "name": "python3",
      "display_name": "Python 3"
    },
    "accelerator": "GPU",
    "widgets": {
      "application/vnd.jupyter.widget-state+json": {
        "0018d55bbbb7428a910ef9ebeeca9c2c": {
          "model_module": "@jupyter-widgets/controls",
          "model_name": "HBoxModel",
          "state": {
            "_view_name": "HBoxView",
            "_dom_classes": [],
            "_model_name": "HBoxModel",
            "_view_module": "@jupyter-widgets/controls",
            "_model_module_version": "1.5.0",
            "_view_count": null,
            "_view_module_version": "1.5.0",
            "box_style": "",
            "layout": "IPY_MODEL_7715b8b37941480cbf72683524f824c9",
            "_model_module": "@jupyter-widgets/controls",
            "children": [
              "IPY_MODEL_f75cfcb14e1f4de49acc4e60fe68d332",
              "IPY_MODEL_5f49fbe32f0d486a85741dd5873c8a8c"
            ]
          }
        },
        "7715b8b37941480cbf72683524f824c9": {
          "model_module": "@jupyter-widgets/base",
          "model_name": "LayoutModel",
          "state": {
            "_view_name": "LayoutView",
            "grid_template_rows": null,
            "right": null,
            "justify_content": null,
            "_view_module": "@jupyter-widgets/base",
            "overflow": null,
            "_model_module_version": "1.2.0",
            "_view_count": null,
            "flex_flow": null,
            "width": null,
            "min_width": null,
            "border": null,
            "align_items": null,
            "bottom": null,
            "_model_module": "@jupyter-widgets/base",
            "top": null,
            "grid_column": null,
            "overflow_y": null,
            "overflow_x": null,
            "grid_auto_flow": null,
            "grid_area": null,
            "grid_template_columns": null,
            "flex": null,
            "_model_name": "LayoutModel",
            "justify_items": null,
            "grid_row": null,
            "max_height": null,
            "align_content": null,
            "visibility": null,
            "align_self": null,
            "height": null,
            "min_height": null,
            "padding": null,
            "grid_auto_rows": null,
            "grid_gap": null,
            "max_width": null,
            "order": null,
            "_view_module_version": "1.2.0",
            "grid_template_areas": null,
            "object_position": null,
            "object_fit": null,
            "grid_auto_columns": null,
            "margin": null,
            "display": null,
            "left": null
          }
        },
        "f75cfcb14e1f4de49acc4e60fe68d332": {
          "model_module": "@jupyter-widgets/controls",
          "model_name": "FloatProgressModel",
          "state": {
            "_view_name": "ProgressView",
            "style": "IPY_MODEL_a0570faaf4734ec9916639e65af818cc",
            "_dom_classes": [],
            "description": "Training:  25%",
            "_model_name": "FloatProgressModel",
            "bar_style": "",
            "max": 500,
            "_view_module": "@jupyter-widgets/controls",
            "_model_module_version": "1.5.0",
            "value": 127,
            "_view_count": null,
            "_view_module_version": "1.5.0",
            "orientation": "horizontal",
            "min": 0,
            "description_tooltip": null,
            "_model_module": "@jupyter-widgets/controls",
            "layout": "IPY_MODEL_6a77eaaf4ee14c819024d57527d78a13"
          }
        },
        "5f49fbe32f0d486a85741dd5873c8a8c": {
          "model_module": "@jupyter-widgets/controls",
          "model_name": "HTMLModel",
          "state": {
            "_view_name": "HTMLView",
            "style": "IPY_MODEL_eb92c2d6a5d04cab84c09e17b767c812",
            "_dom_classes": [],
            "description": "",
            "_model_name": "HTMLModel",
            "placeholder": "​",
            "_view_module": "@jupyter-widgets/controls",
            "_model_module_version": "1.5.0",
            "value": " 127/500 [01:57&lt;03:36,  1.72it/s, train loss=24.1, val loss=24.2]",
            "_view_count": null,
            "_view_module_version": "1.5.0",
            "description_tooltip": null,
            "_model_module": "@jupyter-widgets/controls",
            "layout": "IPY_MODEL_a6e2f4b9d89a44eb8a829edf4a364cb3"
          }
        },
        "a0570faaf4734ec9916639e65af818cc": {
          "model_module": "@jupyter-widgets/controls",
          "model_name": "ProgressStyleModel",
          "state": {
            "_view_name": "StyleView",
            "_model_name": "ProgressStyleModel",
            "description_width": "initial",
            "_view_module": "@jupyter-widgets/base",
            "_model_module_version": "1.5.0",
            "_view_count": null,
            "_view_module_version": "1.2.0",
            "bar_color": null,
            "_model_module": "@jupyter-widgets/controls"
          }
        },
        "6a77eaaf4ee14c819024d57527d78a13": {
          "model_module": "@jupyter-widgets/base",
          "model_name": "LayoutModel",
          "state": {
            "_view_name": "LayoutView",
            "grid_template_rows": null,
            "right": null,
            "justify_content": null,
            "_view_module": "@jupyter-widgets/base",
            "overflow": null,
            "_model_module_version": "1.2.0",
            "_view_count": null,
            "flex_flow": null,
            "width": null,
            "min_width": null,
            "border": null,
            "align_items": null,
            "bottom": null,
            "_model_module": "@jupyter-widgets/base",
            "top": null,
            "grid_column": null,
            "overflow_y": null,
            "overflow_x": null,
            "grid_auto_flow": null,
            "grid_area": null,
            "grid_template_columns": null,
            "flex": null,
            "_model_name": "LayoutModel",
            "justify_items": null,
            "grid_row": null,
            "max_height": null,
            "align_content": null,
            "visibility": null,
            "align_self": null,
            "height": null,
            "min_height": null,
            "padding": null,
            "grid_auto_rows": null,
            "grid_gap": null,
            "max_width": null,
            "order": null,
            "_view_module_version": "1.2.0",
            "grid_template_areas": null,
            "object_position": null,
            "object_fit": null,
            "grid_auto_columns": null,
            "margin": null,
            "display": null,
            "left": null
          }
        },
        "eb92c2d6a5d04cab84c09e17b767c812": {
          "model_module": "@jupyter-widgets/controls",
          "model_name": "DescriptionStyleModel",
          "state": {
            "_view_name": "StyleView",
            "_model_name": "DescriptionStyleModel",
            "description_width": "",
            "_view_module": "@jupyter-widgets/base",
            "_model_module_version": "1.5.0",
            "_view_count": null,
            "_view_module_version": "1.2.0",
            "_model_module": "@jupyter-widgets/controls"
          }
        },
        "a6e2f4b9d89a44eb8a829edf4a364cb3": {
          "model_module": "@jupyter-widgets/base",
          "model_name": "LayoutModel",
          "state": {
            "_view_name": "LayoutView",
            "grid_template_rows": null,
            "right": null,
            "justify_content": null,
            "_view_module": "@jupyter-widgets/base",
            "overflow": null,
            "_model_module_version": "1.2.0",
            "_view_count": null,
            "flex_flow": null,
            "width": null,
            "min_width": null,
            "border": null,
            "align_items": null,
            "bottom": null,
            "_model_module": "@jupyter-widgets/base",
            "top": null,
            "grid_column": null,
            "overflow_y": null,
            "overflow_x": null,
            "grid_auto_flow": null,
            "grid_area": null,
            "grid_template_columns": null,
            "flex": null,
            "_model_name": "LayoutModel",
            "justify_items": null,
            "grid_row": null,
            "max_height": null,
            "align_content": null,
            "visibility": null,
            "align_self": null,
            "height": null,
            "min_height": null,
            "padding": null,
            "grid_auto_rows": null,
            "grid_gap": null,
            "max_width": null,
            "order": null,
            "_view_module_version": "1.2.0",
            "grid_template_areas": null,
            "object_position": null,
            "object_fit": null,
            "grid_auto_columns": null,
            "margin": null,
            "display": null,
            "left": null
          }
        }
      }
    }
  },
  "cells": [
    {
      "cell_type": "markdown",
      "metadata": {
        "id": "view-in-github",
        "colab_type": "text"
      },
      "source": [
        "<a href=\"https://colab.research.google.com/github/NiallJeffrey/MomentNetworks/blob/master/marginal_delfi_example.ipynb\" target=\"_parent\"><img src=\"https://colab.research.google.com/assets/colab-badge.svg\" alt=\"Open In Colab\"/></a>"
      ]
    },
    {
      "cell_type": "markdown",
      "metadata": {
        "id": "IUaXhd-zgmHA"
      },
      "source": [
        "## Show marginal delfi estimation\n",
        "## Question: think about correct prior to use?\n",
        "## Summary:"
      ]
    },
    {
      "cell_type": "markdown",
      "metadata": {
        "id": "9pfaLB96gpf-"
      },
      "source": [
        "# Load modules"
      ]
    },
    {
      "cell_type": "code",
      "metadata": {
        "id": "2vW8lqaNgjlU",
        "outputId": "ee045569-c906-4fed-b13a-81f3b4521d78",
        "colab": {
          "base_uri": "https://localhost:8080/",
          "height": 752
        }
      },
      "source": [
        "!pip install tensorflow-gpu==1.15\n",
        "!pip install git+https://github.com/justinalsing/pydelfi.git"
      ],
      "execution_count": null,
      "outputs": [
        {
          "output_type": "stream",
          "text": [
            "Requirement already satisfied: tensorflow-gpu==1.15 in /usr/local/lib/python3.6/dist-packages (1.15.0)\n",
            "Requirement already satisfied: numpy<2.0,>=1.16.0 in /usr/local/lib/python3.6/dist-packages (from tensorflow-gpu==1.15) (1.18.5)\n",
            "Requirement already satisfied: google-pasta>=0.1.6 in /usr/local/lib/python3.6/dist-packages (from tensorflow-gpu==1.15) (0.2.0)\n",
            "Requirement already satisfied: gast==0.2.2 in /usr/local/lib/python3.6/dist-packages (from tensorflow-gpu==1.15) (0.2.2)\n",
            "Requirement already satisfied: grpcio>=1.8.6 in /usr/local/lib/python3.6/dist-packages (from tensorflow-gpu==1.15) (1.32.0)\n",
            "Requirement already satisfied: tensorboard<1.16.0,>=1.15.0 in /usr/local/lib/python3.6/dist-packages (from tensorflow-gpu==1.15) (1.15.0)\n",
            "Requirement already satisfied: wrapt>=1.11.1 in /usr/local/lib/python3.6/dist-packages (from tensorflow-gpu==1.15) (1.12.1)\n",
            "Requirement already satisfied: termcolor>=1.1.0 in /usr/local/lib/python3.6/dist-packages (from tensorflow-gpu==1.15) (1.1.0)\n",
            "Requirement already satisfied: absl-py>=0.7.0 in /usr/local/lib/python3.6/dist-packages (from tensorflow-gpu==1.15) (0.10.0)\n",
            "Requirement already satisfied: keras-preprocessing>=1.0.5 in /usr/local/lib/python3.6/dist-packages (from tensorflow-gpu==1.15) (1.1.2)\n",
            "Requirement already satisfied: protobuf>=3.6.1 in /usr/local/lib/python3.6/dist-packages (from tensorflow-gpu==1.15) (3.12.4)\n",
            "Requirement already satisfied: wheel>=0.26 in /usr/local/lib/python3.6/dist-packages (from tensorflow-gpu==1.15) (0.35.1)\n",
            "Requirement already satisfied: six>=1.10.0 in /usr/local/lib/python3.6/dist-packages (from tensorflow-gpu==1.15) (1.15.0)\n",
            "Requirement already satisfied: astor>=0.6.0 in /usr/local/lib/python3.6/dist-packages (from tensorflow-gpu==1.15) (0.8.1)\n",
            "Requirement already satisfied: tensorflow-estimator==1.15.1 in /usr/local/lib/python3.6/dist-packages (from tensorflow-gpu==1.15) (1.15.1)\n",
            "Requirement already satisfied: opt-einsum>=2.3.2 in /usr/local/lib/python3.6/dist-packages (from tensorflow-gpu==1.15) (3.3.0)\n",
            "Requirement already satisfied: keras-applications>=1.0.8 in /usr/local/lib/python3.6/dist-packages (from tensorflow-gpu==1.15) (1.0.8)\n",
            "Requirement already satisfied: werkzeug>=0.11.15 in /usr/local/lib/python3.6/dist-packages (from tensorboard<1.16.0,>=1.15.0->tensorflow-gpu==1.15) (1.0.1)\n",
            "Requirement already satisfied: markdown>=2.6.8 in /usr/local/lib/python3.6/dist-packages (from tensorboard<1.16.0,>=1.15.0->tensorflow-gpu==1.15) (3.2.2)\n",
            "Requirement already satisfied: setuptools>=41.0.0 in /usr/local/lib/python3.6/dist-packages (from tensorboard<1.16.0,>=1.15.0->tensorflow-gpu==1.15) (50.3.0)\n",
            "Requirement already satisfied: h5py in /usr/local/lib/python3.6/dist-packages (from keras-applications>=1.0.8->tensorflow-gpu==1.15) (2.10.0)\n",
            "Requirement already satisfied: importlib-metadata; python_version < \"3.8\" in /usr/local/lib/python3.6/dist-packages (from markdown>=2.6.8->tensorboard<1.16.0,>=1.15.0->tensorflow-gpu==1.15) (1.7.0)\n",
            "Requirement already satisfied: zipp>=0.5 in /usr/local/lib/python3.6/dist-packages (from importlib-metadata; python_version < \"3.8\"->markdown>=2.6.8->tensorboard<1.16.0,>=1.15.0->tensorflow-gpu==1.15) (3.1.0)\n",
            "Collecting git+https://github.com/justinalsing/pydelfi.git\n",
            "  Cloning https://github.com/justinalsing/pydelfi.git to /tmp/pip-req-build-2a4jz3bj\n",
            "  Running command git clone -q https://github.com/justinalsing/pydelfi.git /tmp/pip-req-build-2a4jz3bj\n",
            "Requirement already satisfied (use --upgrade to upgrade): pydelfi==0.1 from git+https://github.com/justinalsing/pydelfi.git in /usr/local/lib/python3.6/dist-packages\n",
            "Requirement already satisfied: getdist in /usr/local/lib/python3.6/dist-packages (from pydelfi==0.1) (1.1.2)\n",
            "Requirement already satisfied: emcee>=v3.0.2 in /usr/local/lib/python3.6/dist-packages (from pydelfi==0.1) (3.0.2)\n",
            "Requirement already satisfied: mpi4py in /usr/local/lib/python3.6/dist-packages (from pydelfi==0.1) (3.0.3)\n",
            "Requirement already satisfied: scipy in /usr/local/lib/python3.6/dist-packages (from pydelfi==0.1) (1.4.1)\n",
            "Requirement already satisfied: tqdm in /usr/local/lib/python3.6/dist-packages (from pydelfi==0.1) (4.41.1)\n",
            "Requirement already satisfied: matplotlib>=2.2.0 in /usr/local/lib/python3.6/dist-packages (from getdist->pydelfi==0.1) (3.2.2)\n",
            "Requirement already satisfied: numpy in /usr/local/lib/python3.6/dist-packages (from getdist->pydelfi==0.1) (1.18.5)\n",
            "Requirement already satisfied: kiwisolver>=1.0.1 in /usr/local/lib/python3.6/dist-packages (from matplotlib>=2.2.0->getdist->pydelfi==0.1) (1.2.0)\n",
            "Requirement already satisfied: python-dateutil>=2.1 in /usr/local/lib/python3.6/dist-packages (from matplotlib>=2.2.0->getdist->pydelfi==0.1) (2.8.1)\n",
            "Requirement already satisfied: pyparsing!=2.0.4,!=2.1.2,!=2.1.6,>=2.0.1 in /usr/local/lib/python3.6/dist-packages (from matplotlib>=2.2.0->getdist->pydelfi==0.1) (2.4.7)\n",
            "Requirement already satisfied: cycler>=0.10 in /usr/local/lib/python3.6/dist-packages (from matplotlib>=2.2.0->getdist->pydelfi==0.1) (0.10.0)\n",
            "Requirement already satisfied: six>=1.5 in /usr/local/lib/python3.6/dist-packages (from python-dateutil>=2.1->matplotlib>=2.2.0->getdist->pydelfi==0.1) (1.15.0)\n",
            "Building wheels for collected packages: pydelfi\n",
            "  Building wheel for pydelfi (setup.py) ... \u001b[?25l\u001b[?25hdone\n",
            "  Created wheel for pydelfi: filename=pydelfi-0.1-cp36-none-any.whl size=17698 sha256=19f8c99450513543ea946edd45bd34d7abf43240d60c82242e6db38197dad88e\n",
            "  Stored in directory: /tmp/pip-ephem-wheel-cache-88uuwxal/wheels/56/4a/82/e34cea7c37cedd4a95d7c981a54716d0cc138e276fa42e2c46\n",
            "Successfully built pydelfi\n"
          ],
          "name": "stdout"
        }
      ]
    },
    {
      "cell_type": "code",
      "metadata": {
        "id": "KUGZG0rWgt3s",
        "outputId": "49fd116c-e79a-49a5-cf6c-5f6030583aca",
        "colab": {
          "base_uri": "https://localhost:8080/",
          "height": 70
        }
      },
      "source": [
        "import numpy as np\n",
        "import os, sys\n",
        "import matplotlib.pyplot as plt\n",
        "import random\n",
        "import emcee as mc\n",
        "import getdist\n",
        "from getdist import plots, MCSamples\n",
        "import pydelfi.priors as priors\n",
        "import pydelfi.ndes as ndes\n",
        "import pydelfi.delfi as delfi\n",
        "import scipy.interpolate as interpolate\n",
        "import time\n",
        "import tensorflow as tf\n",
        "import pydelfi.score as score\n",
        "tf.logging.set_verbosity(tf.logging.ERROR)\n",
        "%matplotlib inline"
      ],
      "execution_count": null,
      "outputs": [
        {
          "output_type": "stream",
          "text": [
            "WARNING:tensorflow:From /usr/local/lib/python3.6/dist-packages/pydelfi/train.py:9: The name tf.train.AdamOptimizer is deprecated. Please use tf.compat.v1.train.AdamOptimizer instead.\n",
            "\n"
          ],
          "name": "stdout"
        }
      ]
    },
    {
      "cell_type": "markdown",
      "metadata": {
        "id": "qtk1l0DLhMpm"
      },
      "source": [
        "# Training data"
      ]
    },
    {
      "cell_type": "code",
      "metadata": {
        "id": "VtTlUO3WhLQK"
      },
      "source": [
        "data_size=20\n",
        "param_inferred = 2\n",
        "n_training = 100000\n",
        "cov_signal_fourier = np.identity(data_size)*np.logspace(data_size,data_size*0.9,data_size)/np.sum(np.logspace(data_size,data_size*0.9,data_size))\n",
        "cov_noise = np.identity(data_size)*0.1\n",
        "cov_noise_inv = np.linalg.pinv(cov_noise)"
      ],
      "execution_count": null,
      "outputs": []
    },
    {
      "cell_type": "code",
      "metadata": {
        "id": "Z9_CMpaqhSaE"
      },
      "source": [
        "training_z = np.random.multivariate_normal(np.zeros(data_size),cov_signal_fourier,n_training) + \\\n",
        "                  1j*np.random.multivariate_normal(np.zeros(data_size), cov_signal_fourier,n_training)\n",
        "training_z = np.fft.fft(training_z).real\n",
        "\n",
        "training_data = training_z + np.random.multivariate_normal(np.zeros(data_size),cov_noise,n_training)\n",
        "\n",
        "\n",
        "training_z_obs = training_z[0]\n",
        "training_data_obs = training_data[0]\n",
        "training_z = training_z[1:]\n",
        "training_data = training_data[1:]"
      ],
      "execution_count": null,
      "outputs": []
    },
    {
      "cell_type": "code",
      "metadata": {
        "id": "4mxXiirYhbFx"
      },
      "source": [
        "cov_signal = np.identity(data_size)*0.\n",
        "\n",
        "for i in range(n_training-1):\n",
        "  cov_signal += np.outer(training_z[i],training_z[i]) \n",
        "\n",
        "cov_signal = cov_signal/np.float(n_training-1.)\n",
        "\n",
        "cov_signal_inv = np.linalg.pinv(cov_signal)"
      ],
      "execution_count": null,
      "outputs": []
    },
    {
      "cell_type": "code",
      "metadata": {
        "id": "sGUNO7oyhck9",
        "outputId": "1f6077d7-e92a-4187-859f-c252dd862ab9",
        "colab": {
          "base_uri": "https://localhost:8080/",
          "height": 282
        }
      },
      "source": [
        "plt.plot(training_z_obs)\n",
        "plt.scatter(np.arange(data_size),training_data_obs)"
      ],
      "execution_count": null,
      "outputs": [
        {
          "output_type": "execute_result",
          "data": {
            "text/plain": [
              "<matplotlib.collections.PathCollection at 0x7f6032feb400>"
            ]
          },
          "metadata": {
            "tags": []
          },
          "execution_count": 6
        },
        {
          "output_type": "display_data",
          "data": {
            "image/png": "[encoded data removed]",
            "text/plain": [
              "<Figure size 432x288 with 1 Axes>"
            ]
          },
          "metadata": {
            "tags": [],
            "needs_background": "light"
          }
        }
      ]
    },
    {
      "cell_type": "markdown",
      "metadata": {
        "id": "6Z6f3Lkuhlhx"
      },
      "source": [
        "# DELFI 1D"
      ]
    },
    {
      "cell_type": "code",
      "metadata": {
        "id": "5OQfQMVghfcP"
      },
      "source": [
        "NDEs = [ndes.ConditionalMaskedAutoregressiveFlow(n_parameters=param_inferred,\n",
        "                                                 n_data=data_size, n_hiddens=[data_size*2, data_size*2],\n",
        "                                                 n_mades=data_size+1, act_fun=tf.tanh, index=0)]"
      ],
      "execution_count": null,
      "outputs": []
    },
    {
      "cell_type": "code",
      "metadata": {
        "id": "Max3hapPhwG_"
      },
      "source": [
        "# Set priors\n",
        "lower = np.array([-10]*param_inferred)\n",
        "upper = np.array([10]*param_inferred)\n",
        "prior = priors.Uniform(lower, upper)"
      ],
      "execution_count": null,
      "outputs": []
    },
    {
      "cell_type": "code",
      "metadata": {
        "id": "Df3q-w4RhxQK"
      },
      "source": [
        "param_names = []\n",
        "for i in range(param_inferred):\n",
        "    param_names.append(str('\\theta_' + str(i)))"
      ],
      "execution_count": null,
      "outputs": []
    },
    {
      "cell_type": "code",
      "metadata": {
        "id": "eHGijKFihz8o"
      },
      "source": [
        "DelfiEnsemble = delfi.Delfi(training_data_obs, prior, NDEs,\n",
        "                            param_limits = [lower, upper],\n",
        "                            param_names = param_names, \n",
        "                            results_dir = 'temp_marginal/')"
      ],
      "execution_count": null,
      "outputs": []
    },
    {
      "cell_type": "code",
      "metadata": {
        "id": "vS_5y2_zh4A-"
      },
      "source": [
        "DelfiEnsemble.load_simulations(training_data, (training_z[:,:param_inferred]))"
      ],
      "execution_count": null,
      "outputs": []
    },
    {
      "cell_type": "code",
      "metadata": {
        "id": "44_LHZ2VjriK",
        "outputId": "ee64eef2-5502-468f-f6e8-65b119bbe398",
        "colab": {
          "base_uri": "https://localhost:8080/",
          "height": 48,
          "referenced_widgets": [
            "0018d55bbbb7428a910ef9ebeeca9c2c",
            "7715b8b37941480cbf72683524f824c9",
            "f75cfcb14e1f4de49acc4e60fe68d332",
            "5f49fbe32f0d486a85741dd5873c8a8c",
            "a0570faaf4734ec9916639e65af818cc",
            "6a77eaaf4ee14c819024d57527d78a13",
            "eb92c2d6a5d04cab84c09e17b767c812",
            "a6e2f4b9d89a44eb8a829edf4a364cb3"
          ]
        }
      },
      "source": [
        "DelfiEnsemble.train_ndes(batch_size=4000)"
      ],
      "execution_count": null,
      "outputs": [
        {
          "output_type": "display_data",
          "data": {
            "application/vnd.jupyter.widget-view+json": {
              "model_id": "0018d55bbbb7428a910ef9ebeeca9c2c",
              "version_minor": 0,
              "version_major": 2
            },
            "text/plain": [
              "HBox(children=(FloatProgress(value=0.0, description='Training', max=500.0, style=ProgressStyle(description_wid…"
            ]
          },
          "metadata": {
            "tags": []
          }
        }
      ]
    },
    {
      "cell_type": "code",
      "metadata": {
        "id": "60B19kffjzfr"
      },
      "source": [
        "def initial_parameters(theta, relative_sigma):\n",
        "    \"\"\"\n",
        "    This is not randomise the initial position of the\n",
        "    :param theta: list/array of parameter values\n",
        "    :param relative_sigma: controls variance of random draws\n",
        "    :return: the theta array but with random shifts\n",
        "    \"\"\"\n",
        "    theta = np.array(theta)\n",
        "    return np.random.normal(theta, np.abs(theta * relative_sigma))\n",
        "\n",
        "def log_prior(theta, data,cov_signal_inv):\n",
        "    return -0.5*np.inner(theta,np.inner(cov_signal_inv,theta))\n",
        "\n",
        "def log_likelihood(theta, data,cov_noise_inv):\n",
        "    return -0.5*np.inner(theta-data,np.inner(cov_noise_inv,theta-data))\n",
        "\n",
        "def log_posterior_delfi(theta, data,cov_signal_inv):\n",
        "    return  DelfiEnsemble.log_likelihood_stacked(theta,data=data) \n",
        "\n",
        "# log_prior(theta, data,cov_signal_inv) +\n",
        "\n",
        "def log_posterior_likelihood(theta, data,cov_signal_inv,cov_noise_inv):\n",
        "    return log_likelihood(theta, data,cov_noise_inv)"
      ],
      "execution_count": null,
      "outputs": []
    },
    {
      "cell_type": "code",
      "metadata": {
        "id": "AnQMn26Gkiis"
      },
      "source": [
        "n_dim=param_inferred \n",
        "n_burn=100\n",
        "n_steps = 10000\n",
        "n_walkers = 2* n_dim\n",
        "\n",
        "\n",
        "sampler_delfi = mc.EnsembleSampler(n_walkers, n_dim, log_posterior_delfi,\n",
        "                             args=(training_data_obs,cov_signal_inv,))\n",
        "\n",
        "\n",
        "sampler_likelihood = mc.EnsembleSampler(2* data_size, data_size, log_posterior_likelihood,\n",
        "                             args=(training_data_obs,cov_signal_inv,cov_noise_inv,))"
      ],
      "execution_count": null,
      "outputs": []
    },
    {
      "cell_type": "code",
      "metadata": {
        "id": "1kz9eEaA-qWL",
        "outputId": "b38209c1-9a15-41c5-934a-1af82e860bd9",
        "colab": {
          "base_uri": "https://localhost:8080/",
          "height": 50
        }
      },
      "source": [
        "t = time.time()\n",
        "\n",
        "theta_expected_mean = [0.1]*param_inferred\n",
        "theta0 = np.array([list(initial_parameters(theta_expected_mean, 1)) for i in range(n_walkers)])\n",
        "_ =sampler_delfi.run_mcmc(theta0, n_steps)\n",
        "\n",
        "print(time.time() - t)\n",
        "\n",
        "flat_samples_delfi = sampler_delfi.get_chain(discard=n_burn, flat=True)\n",
        "print(flat_samples_delfi.shape)"
      ],
      "execution_count": null,
      "outputs": [
        {
          "output_type": "stream",
          "text": [
            "152.98928809165955\n",
            "(39600, 2)\n"
          ],
          "name": "stdout"
        }
      ]
    },
    {
      "cell_type": "code",
      "metadata": {
        "id": "gIqT_S5DDs3E",
        "outputId": "12cf8792-4bbe-4f12-f733-b7bd41ab3fe5",
        "colab": {
          "base_uri": "https://localhost:8080/",
          "height": 50
        }
      },
      "source": [
        "t = time.time()\n",
        "\n",
        "theta_expected_mean = [0.1]*data_size\n",
        "theta0 = np.array([list(initial_parameters(theta_expected_mean, 1)) for i in range(2*data_size)])\n",
        "_ =sampler_likelihood.run_mcmc(theta0, n_steps) \n",
        "\n",
        "print(time.time() - t)\n",
        "\n",
        "flat_samples_likelihood = sampler_likelihood.get_chain(discard=n_burn, flat=True)\n",
        "print(flat_samples_likelihood.shape)"
      ],
      "execution_count": null,
      "outputs": [
        {
          "output_type": "stream",
          "text": [
            "7.0327959060668945\n",
            "(396000, 20)\n"
          ],
          "name": "stdout"
        }
      ]
    },
    {
      "cell_type": "code",
      "metadata": {
        "id": "wbgPBz8ifJa0",
        "outputId": "148346d9-f662-43e9-93ad-ddd431c3803c",
        "colab": {
          "base_uri": "https://localhost:8080/",
          "height": 382
        }
      },
      "source": [
        "names = param_names\n",
        "labels =  param_names\n",
        "samples = MCSamples(samples=flat_samples_delfi, label='delfi',\n",
        "               settings={'smooth_scale_2D':1})\n",
        "samples2 = MCSamples(samples=flat_samples_likelihood[:,:2], label='lik',\n",
        "               settings={'smooth_scale_2D':1})\n",
        "\n",
        "g = plots.get_subplot_plotter()\n",
        "g.triangle_plot([samples, samples2], filled=True)"
      ],
      "execution_count": null,
      "outputs": [
        {
          "output_type": "stream",
          "text": [
            "Removed no burn in\n",
            "Removed no burn in\n"
          ],
          "name": "stdout"
        },
        {
          "output_type": "stream",
          "text": [
            "WARNING:root:auto bandwidth for param1 very small or failed (h=0.0004404979399859105,N_eff=396000.0). Using fallback (h=0.008311137802082069)\n",
            "WARNING:root:auto bandwidth for param2 very small or failed (h=0.0004996172582736899,N_eff=396000.0). Using fallback (h=0.0086483812713977)\n"
          ],
          "name": "stderr"
        },
        {
          "output_type": "display_data",
          "data": {
            "image/png": "[encoded data removed]",
            "text/plain": [
              "<Figure size 288x288 with 3 Axes>"
            ]
          },
          "metadata": {
            "tags": [],
            "needs_background": "light"
          }
        }
      ]
    },
    {
      "cell_type": "code",
      "metadata": {
        "id": "WlMiPatEZ1yB"
      },
      "source": [
        ""
      ],
      "execution_count": null,
      "outputs": []
    }
  ]
}