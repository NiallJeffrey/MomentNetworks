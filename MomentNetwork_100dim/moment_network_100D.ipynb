{
 "cells": [
  {
   "cell_type": "markdown",
   "metadata": {
    "colab_type": "text",
    "id": "view-in-github"
   },
   "source": [
    "<a href=\"https://colab.research.google.com/github/NiallJeffrey/MomentNetworks/blob/master/MomentNetwork_100dim/moment_network_100D.ipynb\" target=\"_parent\"><img src=\"https://colab.research.google.com/assets/colab-badge.svg\" alt=\"Open In Colab\"/></a>"
   ]
  },
  {
   "cell_type": "markdown",
   "metadata": {
    "id": "IWWr9ewiwO-F"
   },
   "source": [
    "### Make network estimate 2 parameter mean, variance and covariance as a function of numer of training data"
   ]
  },
  {
   "cell_type": "markdown",
   "metadata": {
    "id": "Ccg42FDSwe2T"
   },
   "source": [
    "# Load modules"
   ]
  },
  {
   "cell_type": "code",
   "execution_count": 8,
   "metadata": {
    "colab": {
     "base_uri": "https://localhost:8080/"
    },
    "id": "_JpMKZMywIRk",
    "outputId": "bf67814d-db66-4f2b-cd7f-c8a9438510b2"
   },
   "outputs": [],
   "source": [
    "# !pip install emcee getdist\n",
    "# !pip install chainconsumer\n",
    "# !sudo apt-get install texlive-latex-extra texlive-fonts-recommended dvipng cm-super \n",
    "\n",
    "import numpy as np"
   ]
  },
  {
   "cell_type": "code",
   "execution_count": 3,
   "metadata": {
    "id": "0iiByvMrwJZY"
   },
   "outputs": [],
   "source": [
    "import matplotlib.pyplot as plt\n",
    "import matplotlib.colors as colors\n",
    "\n",
    "from momentnetworks import demo"
   ]
  },
  {
   "cell_type": "code",
   "execution_count": 4,
   "metadata": {
    "id": "oit4TEZYwjdv"
   },
   "outputs": [],
   "source": [
    "# from google.colab import files\n",
    "# from getdist import plots, MCSamples\n",
    "import scipy.interpolate as interpolate\n",
    "import time\n",
    "%matplotlib inline"
   ]
  },
  {
   "cell_type": "code",
   "execution_count": 5,
   "metadata": {
    "id": "Zs4a2iCb8Sis"
   },
   "outputs": [],
   "source": [
    "# def generate__signal(size, n_training):\n",
    "#   cov_signal_fourier = np.identity(size)*np.logspace(size,size*0.9,size)/np.sum(np.logspace(size,size*0.9,size))\n",
    "\n",
    "#   training_z = np.random.multivariate_normal(np.zeros(size),cov_signal_fourier,n_training) + \\\n",
    "#                   1j*np.random.multivariate_normal(np.zeros(size), cov_signal_fourier,n_training)\n",
    "#   training_z = np.fft.fft(training_z).real\n",
    "\n",
    "#   cov_signal = np.identity(size)*0.\n",
    "#   mean_z = np.mean(training_z,axis=0)\n",
    "#   for i in range(n_training-1):\n",
    "#     cov_signal += np.outer(training_z[i] - mean_z,training_z[i]-mean_z) /np.float(n_training-1.)\n",
    "\n",
    "#   cov_signal = np.where((cov_signal<0.9)&(cov_signal>0.2),cov_signal+0.3,cov_signal)\n",
    "#   training_z = np.random.multivariate_normal(np.zeros(size),cov_signal,n_training)\n",
    "\n",
    "#   cov_signal = np.identity(size)*0.\n",
    "#   mean_z = np.mean(training_z,axis=0)\n",
    "#   for i in range(n_training-1):\n",
    "#     cov_signal += np.outer(training_z[i] - mean_z,training_z[i]-mean_z) /np.float(n_training-1.)\n",
    "\n",
    "#   cov_signal_inv = np.linalg.pinv(cov_signal)\n",
    "\n",
    "#   return training_z, cov_signal, cov_signal_inv"
   ]
  },
  {
   "cell_type": "code",
   "execution_count": 6,
   "metadata": {
    "colab": {
     "base_uri": "https://localhost:8080/"
    },
    "id": "MVr73IU3wk79",
    "outputId": "8ad09732-4f09-4a13-e61f-4a687fc86650"
   },
   "outputs": [],
   "source": [
    "n_training = 8000\n",
    "size=10\n",
    "\n",
    "training_z, cov_signal, cov_signal_inv = demo.generate__signal(size, n_training)"
   ]
  },
  {
   "cell_type": "code",
   "execution_count": 9,
   "metadata": {
    "id": "yPorm1dFp3Au"
   },
   "outputs": [],
   "source": [
    "cov_noise = np.identity(size)*4\n",
    "cov_noise_inv = np.linalg.pinv(cov_noise)\n",
    "training_data = training_z +  np.random.multivariate_normal(np.zeros(size),cov_noise,n_training)\n",
    "\n",
    "training_z_obs = [0.014, 0.996, 0.865, -0.25, 0.591, -0.104, 1.376, 1.022, 0.901, 0.835, 0.602, -0.157, -0.398, 0.483, -0.498, -1.437, -0.194, -0.535, -1.487, -1.103, -0.804, -0.741, -2.356, -0.235, -0.377, -0.081, 0.407, 0.777, 1.065, 0.959, 0.604, 2.419, 1.796, 1.261, 0.352, 1.648, 1.197, 0.782, 1.352, 1.61, 1.166, 0.497, 0.407, 0.737, 0.375, -0.484, 1.102, 1.316, 0.607, 1.3, 1.173, -0.642, -0.421, 0.53, 0.918, 1.763, 0.936, 1.27, 1.421, 1.757, 0.264, -0.061, 0.161, -0.033, 0.783, 0.533, 0.98, 0.509, 0.363, -1.247, -0.803, 0.065, -0.025, -0.073, 0.241, -0.744, 0.153, -0.711, 0.645, -0.539, -0.37, -0.748, -0.558, -0.188, 0.068, -0.524, -0.882, -0.367, -0.424, -0.93, -1.455, -2.157, -2.84, -0.588, -2.276, 0.246, -0.958, -0.591, 0.14, 0.156]\n",
    "training_data_obs = [-1.607, 3.04, -0.357, -1.089, 2.622, -1.42, 4.596, -0.384, 4.087, -1.155, 1.745, -0.054, -3.418, -1.398, 1.598, 2.363, -1.018, -0.183, -1.317, -0.787, -0.046, 0.762, -4.387, 2.829, 2.406, 0.452, -0.132, -3.245, -1.389, 0.862, -0.146, -1.218, -0.634, 0.22, 2.792, 5.549, 5.298, 1.558, -2.26, -0.169, 2.297, 0.402, 0.644, 1.033, 3.076, -1.034, -3.227, 3.307, 0.463, 2.226, 2.847, 1.456, 1.012, 2.702, 2.812, 6.682, -1.643, 0.749, 2.727, 3.234, 0.139, 0.077, -0.899, 1.283, 3.093, -0.528, 2.225, 2.873, 1.314, -0.133, -1.184, 1.331, 1.148, 3.614, -0.678, 0.146, 1.136, -3.905, 0.178, 2.195, -0.533, -2.579, -1.13, -5.215, 2.584, 0.939, 0.083, -0.946, -0.288, -1.261, -1.456, -5.345, -0.291, 0.373, 0.689, 2.976, -3.337, 0.945, -0.807, -0.796]\n",
    "\n",
    "training_z = training_z[1:]\n",
    "training_data = training_data[1:]"
   ]
  },
  {
   "cell_type": "markdown",
   "metadata": {
    "id": "DjQW1icA8_p5"
   },
   "source": [
    "# Do MCMC"
   ]
  },
  {
   "cell_type": "code",
   "execution_count": 9,
   "metadata": {
    "id": "RYVaZUo39Gm9"
   },
   "outputs": [],
   "source": [
    "n_dim=size\n",
    "n_burn=5000\n",
    "n_steps = 50000\n",
    "n_walkers = 2 * n_dim\n",
    "\n",
    "sampler_likelihood = mc.EnsembleSampler(n_walkers, n_dim, demo.log_posterior_likelihood,\n",
    "                             args=(training_data_obs,cov_signal_inv,cov_noise_inv,))"
   ]
  },
  {
   "cell_type": "code",
   "execution_count": 10,
   "metadata": {
    "id": "wKNgAoOR9Mp-"
   },
   "outputs": [],
   "source": [
    "theta_expected_mean = [0.1]*size\n",
    "theta0 = np.array([list(demo.initial_parameters(theta_expected_mean, 1)) for i in range(n_walkers)])"
   ]
  },
  {
   "cell_type": "code",
   "execution_count": 11,
   "metadata": {
    "colab": {
     "base_uri": "https://localhost:8080/"
    },
    "id": "aHcmQHVE9XZh",
    "outputId": "bd6ddf78-66bd-46b3-93ea-b5485cf77c78"
   },
   "outputs": [
    {
     "data": {
      "text/plain": [
       "26"
      ]
     },
     "execution_count": 11,
     "metadata": {
      "tags": []
     },
     "output_type": "execute_result"
    }
   ],
   "source": [
    "t = time.time()\n",
    "_ =sampler_likelihood.run_mcmc(theta0, n_steps) \n",
    "\n",
    "flat_samples_likelihood = sampler_likelihood.get_chain(discard=n_burn, flat=True,thin=3)\n",
    "\n",
    "flat_samples_likelihood = np.array(flat_samples_likelihood[:,:2],dtype=np.float32)\n",
    "gc.collect()"
   ]
  },
  {
   "cell_type": "code",
   "execution_count": 12,
   "metadata": {
    "colab": {
     "base_uri": "https://localhost:8080/",
     "height": 268
    },
    "id": "7k7edeXfAGS8",
    "outputId": "2caf728d-0182-47b8-d2ae-34be7e0c70c9"
   },
   "outputs": [
    {
     "data": {
      "image/png": "[encoded data removed]",
      "text/plain": [
       "<Figure size 432x288 with 1 Axes>"
      ]
     },
     "metadata": {
      "needs_background": "light",
      "tags": []
     },
     "output_type": "display_data"
    }
   ],
   "source": [
    "n_samples = flat_samples_likelihood.shape[0]\n",
    "intervals = np.logspace(3,np.log10(n_samples), 10, dtype=int)\n",
    "var_0 = []\n",
    "var_1 = []\n",
    "cov_01 = []\n",
    "for sub_sample in intervals:\n",
    "  covar = np.cov(flat_samples_likelihood[:sub_sample,0],flat_samples_likelihood[:sub_sample,1])\n",
    "  var_0.append(covar[0,0])\n",
    "  var_1.append(covar[1,1])\n",
    "  cov_01.append(covar[0,1])\n",
    "_ = plt.plot(intervals, var_0, 'o--')\n",
    "_ = plt.plot(intervals, var_1, marker='x')\n",
    "_ = plt.plot(intervals, cov_01, marker='s')\n",
    "_ = plt.xscale('log'), plt.yscale('log')"
   ]
  },
  {
   "cell_type": "code",
   "execution_count": 13,
   "metadata": {
    "colab": {
     "base_uri": "https://localhost:8080/",
     "height": 346
    },
    "id": "d8YkMfH2Joq-",
    "outputId": "06062f4e-c784-4875-cb12-c8e62987efc5"
   },
   "outputs": [
    {
     "name": "stdout",
     "output_type": "stream",
     "text": [
      "Removed no burn in\n"
     ]
    },
    {
     "name": "stderr",
     "output_type": "stream",
     "text": [
      "WARNING:root:fine_bins not large enough to well sample smoothing scale - param2\n",
      "WARNING:root:fine_bins_2D not large enough for optimal density\n"
     ]
    },
    {
     "data": {
      "image/png": "[encoded data removed]",
      "text/plain": [
       "<Figure size 288x288 with 3 Axes>"
      ]
     },
     "metadata": {
      "needs_background": "light",
      "tags": []
     },
     "output_type": "display_data"
    }
   ],
   "source": [
    "samples2 = MCSamples(samples=flat_samples_likelihood[:,:2],label='lik')\n",
    "\n",
    "g = plots.get_subplot_plotter()\n",
    "g.triangle_plot([samples2], filled=True)"
   ]
  },
  {
   "cell_type": "code",
   "execution_count": 14,
   "metadata": {
    "colab": {
     "base_uri": "https://localhost:8080/"
    },
    "id": "8n7aQzySD3GT",
    "outputId": "75c0a509-7135-4e7e-e2f7-60be3bdf0f62"
   },
   "outputs": [
    {
     "data": {
      "text/plain": [
       "array([[0.51773446, 0.29584813],\n",
       "       [0.29584813, 0.53973972]])"
      ]
     },
     "execution_count": 14,
     "metadata": {
      "tags": []
     },
     "output_type": "execute_result"
    }
   ],
   "source": [
    "np.cov(flat_samples_likelihood[:,0],flat_samples_likelihood[:,1])"
   ]
  },
  {
   "cell_type": "markdown",
   "metadata": {
    "id": "X5sBXH7_9VrZ"
   },
   "source": [
    "# Moment network"
   ]
  },
  {
   "cell_type": "code",
   "execution_count": 15,
   "metadata": {
    "id": "gd2yNrug6HEI"
   },
   "outputs": [],
   "source": [
    "class simple_leaky():\n",
    "    \"\"\"\n",
    "    A simple MLP with LeakyReLU activation\n",
    "    \"\"\"\n",
    "    \n",
    "    def __init__(self, input_size, output_size, learning_rate=None):\n",
    "        \"\"\"\n",
    "        Initialisation\n",
    "        :param map_size: size of square image (there are map_size**2 pixels)\n",
    "        :param learning_rate: learning rate for the optimizer\n",
    "        \"\"\"\n",
    "        self.input_size = input_size\n",
    "        self.learning_rate = learning_rate\n",
    "        self.output_size = output_size\n",
    "        \n",
    "    def model(self):\n",
    "        print(self.input_size)\n",
    "        \n",
    "        input_data = (Input(shape=(self.input_size,)))\n",
    "\n",
    "        x1 = Dense(self.input_size, input_dim=self.input_size, kernel_initializer='normal')(input_data)\n",
    "        x1 = LeakyReLU(alpha=0.1)(x1)\n",
    "        x2 = Dense(self.input_size*2, kernel_initializer='normal')(x1)\n",
    "        x2 = LeakyReLU(alpha=0.1)(x2)\n",
    "        x3 = Dense(self.input_size, kernel_initializer='normal')(x2)\n",
    "        x3 = LeakyReLU(alpha=0.1)(x3)\n",
    "        x4 = Dense(self.output_size, kernel_initializer='normal')(x3)\n",
    "        \n",
    "\n",
    "        dense_model = Model(input_data, x4)\n",
    "        dense_model.summary()\n",
    "\n",
    "        if self.learning_rate is None:\n",
    "            dense_model.compile(optimizer='adam', loss='mse')\n",
    "        else:\n",
    "            dense_model.compile(optimizer=optimizers.Adam(lr=self.learning_rate), loss='mse')\n",
    "\n",
    "        return dense_model\n",
    "\n",
    "validation_index = np.int(n_training * 0.8)"
   ]
  },
  {
   "cell_type": "code",
   "execution_count": 16,
   "metadata": {
    "colab": {
     "base_uri": "https://localhost:8080/"
    },
    "id": "JAcrB9TTIz_e",
    "outputId": "e5bd58b1-bb57-4d07-f990-74ded4d3a79c"
   },
   "outputs": [
    {
     "data": {
      "text/plain": [
       "13506"
      ]
     },
     "execution_count": 16,
     "metadata": {
      "tags": []
     },
     "output_type": "execute_result"
    }
   ],
   "source": [
    "gc.collect()"
   ]
  },
  {
   "cell_type": "code",
   "execution_count": 17,
   "metadata": {
    "colab": {
     "base_uri": "https://localhost:8080/"
    },
    "id": "-PJsDTyZ80Nd",
    "outputId": "3c158791-9383-4980-e0c0-2c3964aeac51"
   },
   "outputs": [
    {
     "name": "stdout",
     "output_type": "stream",
     "text": [
      "100\n",
      "Model: \"functional_1\"\n",
      "_________________________________________________________________\n",
      "Layer (type)                 Output Shape              Param #   \n",
      "=================================================================\n",
      "input_1 (InputLayer)         [(None, 100)]             0         \n",
      "_________________________________________________________________\n",
      "dense (Dense)                (None, 100)               10100     \n",
      "_________________________________________________________________\n",
      "leaky_re_lu (LeakyReLU)      (None, 100)               0         \n",
      "_________________________________________________________________\n",
      "dense_1 (Dense)              (None, 200)               20200     \n",
      "_________________________________________________________________\n",
      "leaky_re_lu_1 (LeakyReLU)    (None, 200)               0         \n",
      "_________________________________________________________________\n",
      "dense_2 (Dense)              (None, 100)               20100     \n",
      "_________________________________________________________________\n",
      "leaky_re_lu_2 (LeakyReLU)    (None, 100)               0         \n",
      "_________________________________________________________________\n",
      "dense_3 (Dense)              (None, 2)                 202       \n",
      "=================================================================\n",
      "Total params: 50,602\n",
      "Trainable params: 50,602\n",
      "Non-trainable params: 0\n",
      "_________________________________________________________________\n"
     ]
    }
   ],
   "source": [
    "model_instance = simple_leaky(size,2, learning_rate=1e-4)\n",
    "regression = model_instance.model()"
   ]
  },
  {
   "cell_type": "code",
   "execution_count": 18,
   "metadata": {
    "colab": {
     "base_uri": "https://localhost:8080/"
    },
    "id": "Sw3UmnnY81bD",
    "outputId": "a4ec64c7-4e84-4c58-a3fa-4066beeb616d"
   },
   "outputs": [
    {
     "name": "stdout",
     "output_type": "stream",
     "text": [
      "Epoch 1/7\n",
      "1280/1280 [==============================] - 2s 2ms/step - loss: 0.6273 - val_loss: 0.5570\n",
      "Epoch 2/7\n",
      "1280/1280 [==============================] - 2s 2ms/step - loss: 0.5493 - val_loss: 0.5510\n",
      "Epoch 3/7\n",
      "1280/1280 [==============================] - 2s 2ms/step - loss: 0.5417 - val_loss: 0.5487\n",
      "Epoch 4/7\n",
      "1280/1280 [==============================] - 2s 2ms/step - loss: 0.5372 - val_loss: 0.5480\n",
      "Epoch 5/7\n",
      "1280/1280 [==============================] - 2s 2ms/step - loss: 0.5334 - val_loss: 0.5489\n",
      "Epoch 6/7\n",
      "1280/1280 [==============================] - 2s 2ms/step - loss: 0.5298 - val_loss: 0.5500\n",
      "Epoch 7/7\n",
      "1280/1280 [==============================] - 2s 2ms/step - loss: 0.5265 - val_loss: 0.5528\n"
     ]
    }
   ],
   "source": [
    "history = regression.fit(training_data[:validation_index],\n",
    "                               training_z[:validation_index,:2],\n",
    "                               epochs =7,batch_size =50, shuffle=True,\n",
    "                               validation_data = (training_data[validation_index:],\n",
    "                               training_z[validation_index:,:2]))"
   ]
  },
  {
   "cell_type": "code",
   "execution_count": 19,
   "metadata": {
    "id": "nYjLCYR182bb"
   },
   "outputs": [],
   "source": [
    "predicted_mean = regression.predict(np.atleast_2d(training_data))\n",
    "predicted_mean_obs = regression.predict(np.atleast_2d(training_data_obs))"
   ]
  },
  {
   "cell_type": "code",
   "execution_count": 20,
   "metadata": {
    "colab": {
     "base_uri": "https://localhost:8080/"
    },
    "id": "k2YhhHIb84T2",
    "outputId": "38afae72-03f5-44a5-e409-e32c36f6661e"
   },
   "outputs": [
    {
     "data": {
      "text/plain": [
       "(79999, 3)"
      ]
     },
     "execution_count": 20,
     "metadata": {
      "tags": []
     },
     "output_type": "execute_result"
    }
   ],
   "source": [
    "training_var_unknown_mean = (training_z[:,:2]-regression.predict(np.atleast_2d(training_data)))**2.\n",
    "training_var_unknown_mean = np.hstack([training_var_unknown_mean,\n",
    "                                      np.atleast_2d((training_z[:,0]-regression.predict(np.atleast_2d(training_data))[:,0])*\n",
    "                                      (training_z[:,1]-regression.predict(np.atleast_2d(training_data))[:,1])).T])\n",
    "training_var_unknown_mean.shape"
   ]
  },
  {
   "cell_type": "code",
   "execution_count": 21,
   "metadata": {
    "colab": {
     "base_uri": "https://localhost:8080/"
    },
    "id": "Er2bhvzq85-7",
    "outputId": "8925bb1f-a960-43d4-9111-20c2101e35ef"
   },
   "outputs": [
    {
     "name": "stdout",
     "output_type": "stream",
     "text": [
      "100\n",
      "Model: \"functional_3\"\n",
      "_________________________________________________________________\n",
      "Layer (type)                 Output Shape              Param #   \n",
      "=================================================================\n",
      "input_2 (InputLayer)         [(None, 100)]             0         \n",
      "_________________________________________________________________\n",
      "dense_4 (Dense)              (None, 100)               10100     \n",
      "_________________________________________________________________\n",
      "leaky_re_lu_3 (LeakyReLU)    (None, 100)               0         \n",
      "_________________________________________________________________\n",
      "dense_5 (Dense)              (None, 200)               20200     \n",
      "_________________________________________________________________\n",
      "leaky_re_lu_4 (LeakyReLU)    (None, 200)               0         \n",
      "_________________________________________________________________\n",
      "dense_6 (Dense)              (None, 100)               20100     \n",
      "_________________________________________________________________\n",
      "leaky_re_lu_5 (LeakyReLU)    (None, 100)               0         \n",
      "_________________________________________________________________\n",
      "dense_7 (Dense)              (None, 3)                 303       \n",
      "=================================================================\n",
      "Total params: 50,703\n",
      "Trainable params: 50,703\n",
      "Non-trainable params: 0\n",
      "_________________________________________________________________\n"
     ]
    }
   ],
   "source": [
    "model_instance = simple_leaky(size,3, learning_rate=1e-4)\n",
    "regression_var_unknown_mean = model_instance.model()"
   ]
  },
  {
   "cell_type": "code",
   "execution_count": 22,
   "metadata": {
    "colab": {
     "base_uri": "https://localhost:8080/"
    },
    "id": "Krdj1iX287V9",
    "outputId": "1cb5a23a-410c-4e97-b947-d6d059fb03f2"
   },
   "outputs": [
    {
     "name": "stdout",
     "output_type": "stream",
     "text": [
      "Epoch 1/5\n",
      "1280/1280 [==============================] - 2s 2ms/step - loss: 0.4890 - val_loss: 0.5309\n",
      "Epoch 2/5\n",
      "1280/1280 [==============================] - 2s 2ms/step - loss: 0.4810 - val_loss: 0.5300\n",
      "Epoch 3/5\n",
      "1280/1280 [==============================] - 2s 2ms/step - loss: 0.4787 - val_loss: 0.5288\n",
      "Epoch 4/5\n",
      "1280/1280 [==============================] - 2s 2ms/step - loss: 0.4764 - val_loss: 0.5294\n",
      "Epoch 5/5\n",
      "1280/1280 [==============================] - 2s 2ms/step - loss: 0.4740 - val_loss: 0.5316\n"
     ]
    }
   ],
   "source": [
    "history = regression_var_unknown_mean.fit(training_data[:validation_index],\n",
    "                               training_var_unknown_mean[:validation_index,:3],\n",
    "                               epochs =5,batch_size =50, shuffle=True,\n",
    "                               validation_data = (training_data[validation_index:],\n",
    "                               training_var_unknown_mean[validation_index:,:3]))"
   ]
  },
  {
   "cell_type": "code",
   "execution_count": 23,
   "metadata": {
    "colab": {
     "base_uri": "https://localhost:8080/"
    },
    "id": "yKnlgGmk89Ks",
    "outputId": "ef761eeb-ab02-4ea0-e7e1-85836cb6d02e"
   },
   "outputs": [
    {
     "name": "stdout",
     "output_type": "stream",
     "text": [
      "0.06843876838684082\n",
      "[0.5991414  0.6721985  0.36777443]\n"
     ]
    }
   ],
   "source": [
    "t = time.time()\n",
    "predicted_var_obs = (regression_var_unknown_mean.predict(np.atleast_2d(training_data_obs[:]))[0])\n",
    "print(time.time() - t)\n",
    "print(predicted_var_obs)"
   ]
  },
  {
   "cell_type": "code",
   "execution_count": 24,
   "metadata": {
    "id": "fUKpOTSoIXn-"
   },
   "outputs": [],
   "source": [
    "likelihood_param_cov = np.cov(flat_samples_likelihood[:,0],flat_samples_likelihood[:,1])"
   ]
  },
  {
   "cell_type": "code",
   "execution_count": 25,
   "metadata": {
    "id": "0I8iLuhI0zpi"
   },
   "outputs": [],
   "source": [
    "moment_network_param_cov = np.copy(likelihood_param_cov)\n",
    "moment_network_param_cov[0,0] = predicted_var_obs[0]\n",
    "moment_network_param_cov[1,1] = predicted_var_obs[1]\n",
    "moment_network_param_cov[0,1] = predicted_var_obs[2]\n",
    "moment_network_param_cov[1,0] = predicted_var_obs[2]"
   ]
  },
  {
   "cell_type": "code",
   "execution_count": 26,
   "metadata": {
    "colab": {
     "base_uri": "https://localhost:8080/"
    },
    "id": "-f3R_g7FIltE",
    "outputId": "cc2f5848-d5c8-4979-85c8-b8fe07a06101"
   },
   "outputs": [
    {
     "data": {
      "text/plain": [
       "4385"
      ]
     },
     "execution_count": 26,
     "metadata": {
      "tags": []
     },
     "output_type": "execute_result"
    }
   ],
   "source": [
    "moment_network_samples = np.array(np.random.multivariate_normal(predicted_mean_obs[0],moment_network_param_cov,int(1e6)),dtype=np.float32)\n",
    "gc.collect()"
   ]
  },
  {
   "cell_type": "code",
   "execution_count": 27,
   "metadata": {
    "colab": {
     "base_uri": "https://localhost:8080/",
     "height": 338
    },
    "id": "6e4nvcj482t0",
    "outputId": "db7df1c6-2738-49b0-c84a-3da85f9fbafa"
   },
   "outputs": [
    {
     "data": {
      "application/javascript": [
       "\n",
       "    async function download(id, filename, size) {\n",
       "      if (!google.colab.kernel.accessAllowed) {\n",
       "        return;\n",
       "      }\n",
       "      const div = document.createElement('div');\n",
       "      const label = document.createElement('label');\n",
       "      label.textContent = `Downloading \"${filename}\": `;\n",
       "      div.appendChild(label);\n",
       "      const progress = document.createElement('progress');\n",
       "      progress.max = size;\n",
       "      div.appendChild(progress);\n",
       "      document.body.appendChild(div);\n",
       "\n",
       "      const buffers = [];\n",
       "      let downloaded = 0;\n",
       "\n",
       "      const channel = await google.colab.kernel.comms.open(id);\n",
       "      // Send a message to notify the kernel that we're ready.\n",
       "      channel.send({})\n",
       "\n",
       "      for await (const message of channel.messages) {\n",
       "        // Send a message to notify the kernel that we're ready.\n",
       "        channel.send({})\n",
       "        if (message.buffers) {\n",
       "          for (const buffer of message.buffers) {\n",
       "            buffers.push(buffer);\n",
       "            downloaded += buffer.byteLength;\n",
       "            progress.value = downloaded;\n",
       "          }\n",
       "        }\n",
       "      }\n",
       "      const blob = new Blob(buffers, {type: 'application/binary'});\n",
       "      const a = document.createElement('a');\n",
       "      a.href = window.URL.createObjectURL(blob);\n",
       "      a.download = filename;\n",
       "      div.appendChild(a);\n",
       "      a.click();\n",
       "      div.remove();\n",
       "    }\n",
       "  "
      ],
      "text/plain": [
       "<IPython.core.display.Javascript object>"
      ]
     },
     "metadata": {
      "tags": []
     },
     "output_type": "display_data"
    },
    {
     "data": {
      "application/javascript": [
       "download(\"download_3b3c4fbe-bd46-4f14-b10c-c5c5767c2874\", \"marginal_moments.pdf\", 231002)"
      ],
      "text/plain": [
       "<IPython.core.display.Javascript object>"
      ]
     },
     "metadata": {
      "tags": []
     },
     "output_type": "display_data"
    },
    {
     "data": {
      "image/png": "[encoded data removed]",
      "text/plain": [
       "<Figure size 360x288 with 4 Axes>"
      ]
     },
     "metadata": {
      "needs_background": "light",
      "tags": []
     },
     "output_type": "display_data"
    }
   ],
   "source": [
    "c = ChainConsumer()\n",
    "\n",
    "c.add_chain(moment_network_samples,\n",
    "            parameters=[r'$\\alpha$', r'$\\beta$'],\n",
    "            name = '2D Moment Network result', color_params='C1')\n",
    "\n",
    "\n",
    "c.add_chain(flat_samples_likelihood[:,:2],\n",
    "            parameters=[r'$\\alpha$', r'$\\beta$'],\n",
    "            name = 'Posterior: 100D MCMC', linestyle='--')\n",
    "\n",
    "c.configure(kde=[1.,None],sigmas = [1,2],\n",
    "            contour_label_font_size = 11,\n",
    "            label_font_size = 16, shade = False) \n",
    "\n",
    "fig = c.plotter.plot(figsize = (5,4), extents=[[-3.,3.5],[-2.5,4]], filename='marginal_moments.pdf')\n",
    "files.download('marginal_moments.pdf')"
   ]
  },
  {
   "cell_type": "code",
   "execution_count": 28,
   "metadata": {
    "colab": {
     "base_uri": "https://localhost:8080/",
     "height": 413
    },
    "id": "e_kNz2CS1Dlh",
    "outputId": "ccaded09-5393-498c-fb6d-0d0086f6f104"
   },
   "outputs": [
    {
     "name": "stdout",
     "output_type": "stream",
     "text": [
      "Removed no burn in\n",
      "Removed no burn in\n"
     ]
    },
    {
     "name": "stderr",
     "output_type": "stream",
     "text": [
      "WARNING:root:fine_bins not large enough to well sample smoothing scale - param2\n",
      "WARNING:root:fine_bins_2D not large enough for optimal density\n"
     ]
    },
    {
     "data": {
      "application/javascript": [
       "\n",
       "    async function download(id, filename, size) {\n",
       "      if (!google.colab.kernel.accessAllowed) {\n",
       "        return;\n",
       "      }\n",
       "      const div = document.createElement('div');\n",
       "      const label = document.createElement('label');\n",
       "      label.textContent = `Downloading \"${filename}\": `;\n",
       "      div.appendChild(label);\n",
       "      const progress = document.createElement('progress');\n",
       "      progress.max = size;\n",
       "      div.appendChild(progress);\n",
       "      document.body.appendChild(div);\n",
       "\n",
       "      const buffers = [];\n",
       "      let downloaded = 0;\n",
       "\n",
       "      const channel = await google.colab.kernel.comms.open(id);\n",
       "      // Send a message to notify the kernel that we're ready.\n",
       "      channel.send({})\n",
       "\n",
       "      for await (const message of channel.messages) {\n",
       "        // Send a message to notify the kernel that we're ready.\n",
       "        channel.send({})\n",
       "        if (message.buffers) {\n",
       "          for (const buffer of message.buffers) {\n",
       "            buffers.push(buffer);\n",
       "            downloaded += buffer.byteLength;\n",
       "            progress.value = downloaded;\n",
       "          }\n",
       "        }\n",
       "      }\n",
       "      const blob = new Blob(buffers, {type: 'application/binary'});\n",
       "      const a = document.createElement('a');\n",
       "      a.href = window.URL.createObjectURL(blob);\n",
       "      a.download = filename;\n",
       "      div.appendChild(a);\n",
       "      a.click();\n",
       "      div.remove();\n",
       "    }\n",
       "  "
      ],
      "text/plain": [
       "<IPython.core.display.Javascript object>"
      ]
     },
     "metadata": {
      "tags": []
     },
     "output_type": "display_data"
    },
    {
     "data": {
      "application/javascript": [
       "download(\"download_189f86f1-27a3-48ea-8d35-4b441bbe79e9\", \"test.png\", 160453)"
      ],
      "text/plain": [
       "<IPython.core.display.Javascript object>"
      ]
     },
     "metadata": {
      "tags": []
     },
     "output_type": "display_data"
    },
    {
     "data": {
      "text/plain": [
       "<Figure size 432x324 with 0 Axes>"
      ]
     },
     "metadata": {
      "tags": []
     },
     "output_type": "display_data"
    },
    {
     "data": {
      "image/png": "[encoded data removed]",
      "text/plain": [
       "<Figure size 432x324 with 3 Axes>"
      ]
     },
     "metadata": {
      "needs_background": "light",
      "tags": []
     },
     "output_type": "display_data"
    }
   ],
   "source": [
    "samples2 = MCSamples(samples=flat_samples_likelihood[:,:2],label='Posterior 100 dim MCMC')\n",
    "samples_moment = MCSamples(samples=moment_network_samples,label='Moment Network 2D marginal')\n",
    "\n",
    "g = plots.get_single_plotter(width_inch=6)\n",
    "\n",
    "g.triangle_plot([samples2, samples_moment], filled=False )\n",
    "plt.savefig('test.png', dpi=300)\n",
    "files.download('test.png')"
   ]
  }
 ],
 "metadata": {
  "accelerator": "GPU",
  "colab": {
   "authorship_tag": "ABX9TyOf8CXvo/nAGA3D01cWNOgx",
   "collapsed_sections": [],
   "include_colab_link": true,
   "name": "moment_network_100D.ipynb",
   "provenance": []
  },
  "kernelspec": {
   "display_name": "Python 3",
   "language": "python",
   "name": "python3"
  },
  "language_info": {
   "codemirror_mode": {
    "name": "ipython",
    "version": 3
   },
   "file_extension": ".py",
   "mimetype": "text/x-python",
   "name": "python",
   "nbconvert_exporter": "python",
   "pygments_lexer": "ipython3",
   "version": "3.6.8"
  }
 },
 "nbformat": 4,
 "nbformat_minor": 1
}
