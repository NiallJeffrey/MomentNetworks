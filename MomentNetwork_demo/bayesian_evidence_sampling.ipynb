{
  "nbformat": 4,
  "nbformat_minor": 0,
  "metadata": {
    "colab": {
      "name": "bayesian_evidence_sampling.ipynb",
      "provenance": [],
      "collapsed_sections": [],
      "toc_visible": true,
      "authorship_tag": "ABX9TyMg+at8eKhA0ejspKiLtiyn",
      "include_colab_link": true
    },
    "kernelspec": {
      "name": "python3",
      "display_name": "Python 3"
    },
    "language_info": {
      "name": "python"
    },
    "accelerator": "GPU",
    "gpuClass": "standard"
  },
  "cells": [
    {
      "cell_type": "markdown",
      "metadata": {
        "id": "view-in-github",
        "colab_type": "text"
      },
      "source": [
        "<a href=\"https://colab.research.google.com/github/NiallJeffrey/MomentNetworks/blob/master/MomentNetwork_demo/bayesian_evidence_sampling.ipynb\" target=\"_parent\"><img src=\"https://colab.research.google.com/assets/colab-badge.svg\" alt=\"Open In Colab\"/></a>"
      ]
    },
    {
      "cell_type": "code",
      "execution_count": 156,
      "metadata": {
        "id": "J3yxwXkLEiDa"
      },
      "outputs": [],
      "source": [
        "import matplotlib.pyplot as plt\n",
        "import matplotlib.colors as colors\n",
        "import numpy as np\n",
        "import time\n",
        "\n",
        "import sys\n",
        "from scipy.integrate import quad\n",
        "from scipy.stats import norm\n",
        "from scipy.integrate import simps\n",
        "import tensorflow as tf\n",
        "\n",
        "from tensorflow.keras.models import Sequential\n",
        "from tensorflow.keras.layers import Dense, Dropout, LeakyReLU, Input\n",
        "from tensorflow.keras.layers import concatenate, BatchNormalization\n",
        "from tensorflow.keras.models import Model\n",
        "from tensorflow.keras.activations import softmax\n",
        "from tensorflow.keras import optimizers\n",
        "\n",
        "import gc"
      ]
    },
    {
      "cell_type": "code",
      "source": [
        "# Generate some synthetic data from the model.\n",
        "N = 24\n",
        "x = np.linspace(0,365*2, N)\n",
        "ystd = 3*np.linspace(2.5,4., N)**2."
      ],
      "metadata": {
        "id": "dJqwqrzHEmQg"
      },
      "execution_count": 157,
      "outputs": []
    },
    {
      "cell_type": "code",
      "source": [
        "def log_prior(theta):\n",
        "    m, b = theta\n",
        "    if -0.2 < m < 0.2 and -10. < b < 60.0:\n",
        "        return -np.log(.4*60.)\n",
        "    return -np.inf\n",
        "\n",
        "def log_likelihood(theta, x, y, ystd):\n",
        "    m, b = theta\n",
        "    mu = m * x + b\n",
        "    return -0.5 * (np.sum(((y - mu)/ystd) ** 2.) + len(y) * np.log(np.pi * 2) + np.sum(np.log(ystd**2.)))\n",
        "\n",
        "\n",
        "def integrate_2d(logz,x,y):\n",
        "  return simps(simps(np.exp(logz), m_array), b_array)"
      ],
      "metadata": {
        "id": "cVHPPO3lEr3j"
      },
      "execution_count": 158,
      "outputs": []
    },
    {
      "cell_type": "code",
      "source": [
        "m_true = 0.1\n",
        "b_true = 10.\n",
        "\n",
        "y = np.random.normal(m_true * x + b_true, ystd)\n",
        "\n",
        "plt.plot(x, m_true * x + b_true, c='C1' , alpha=0.3)\n",
        "plt.errorbar(x, y, yerr=ystd, fmt='.C1', capsize=3.45)\n",
        "plt.xlim(-9, 750), plt.ylim(-100, 200)\n",
        "plt.xlabel(r'$X\\ (days) $', fontsize=14),plt.ylabel(r'$Y\\ (data)$', fontsize=14)"
      ],
      "metadata": {
        "colab": {
          "base_uri": "https://localhost:8080/",
          "height": 308
        },
        "id": "n-gBb4OcEoNY",
        "outputId": "7b6e0c8a-bf5b-470a-8ca1-7e815b9df76d"
      },
      "execution_count": 159,
      "outputs": [
        {
          "output_type": "execute_result",
          "data": {
            "text/plain": [
              "(Text(0.5, 0, '$X\\\\ (days) $'), Text(0, 0.5, '$Y\\\\ (data)$'))"
            ]
          },
          "metadata": {},
          "execution_count": 159
        },
        {
          "output_type": "display_data",
          "data": {
            "text/plain": [
              "<Figure size 432x288 with 1 Axes>"
            ],
            "image/png": "[encoded data removed]"
          },
          "metadata": {
            "needs_background": "light"
          }
        }
      ]
    },
    {
      "cell_type": "markdown",
      "source": [
        "# Calculate brute force"
      ],
      "metadata": {
        "id": "LhZPa2HwGeUp"
      }
    },
    {
      "cell_type": "code",
      "source": [
        "grid_size = 128\n",
        "m_array = np.linspace(-0.25,.25,grid_size)\n",
        "b_array = np.linspace(-11.,61.,grid_size)\n",
        "\n",
        "theta_0, theta_1 = np.array(np.meshgrid(m_array,b_array))\n",
        "theta_array = np.vstack([theta_0.flatten(), theta_1.flatten()])"
      ],
      "metadata": {
        "id": "igNqqa7sEtGw"
      },
      "execution_count": 160,
      "outputs": []
    },
    {
      "cell_type": "code",
      "source": [
        "prior_array = np.array([log_prior(theta_array[:,i]) \\\n",
        "                         for i in range(theta_array.shape[1])])\n",
        "\n",
        "likelihood_array = np.array([log_likelihood(theta_array[:,i], x,y,ystd) \\\n",
        "                         for i in range(theta_array.shape[1])])\n",
        "\n",
        "posterior_array = likelihood_array + prior_array"
      ],
      "metadata": {
        "id": "VNWTmV44FilM"
      },
      "execution_count": 161,
      "outputs": []
    },
    {
      "cell_type": "code",
      "source": [
        "_ = plt.scatter(theta_0, theta_1, c=np.exp(posterior_array), alpha=0.5,cmap='inferno')\n",
        "_ = plt.xlabel('m'), plt.ylabel('b')"
      ],
      "metadata": {
        "colab": {
          "base_uri": "https://localhost:8080/",
          "height": 279
        },
        "id": "9i4veYXeEwMy",
        "outputId": "55991443-49c4-41ea-8fac-4d403b7a65ee"
      },
      "execution_count": 162,
      "outputs": [
        {
          "output_type": "display_data",
          "data": {
            "text/plain": [
              "<Figure size 432x288 with 1 Axes>"
            ],
            "image/png": "[encoded data removed]"
          },
          "metadata": {
            "needs_background": "light"
          }
        }
      ]
    },
    {
      "cell_type": "code",
      "source": [
        "print('prior integral = ')\n",
        "print(simps(simps(np.exp(np.reshape(prior_array,(grid_size,grid_size))), m_array), b_array))\n",
        "print('posterior integral = ')\n",
        "print(simps(simps(np.exp(np.reshape(posterior_array,(grid_size,grid_size))), m_array), b_array))\n",
        "print(integrate_2d(np.reshape(posterior_array,(grid_size,grid_size)), m_array, b_array))"
      ],
      "metadata": {
        "colab": {
          "base_uri": "https://localhost:8080/"
        },
        "id": "1Yjg8ugEFvj-",
        "outputId": "e408f480-ef10-4de9-8b29-951af52e3201"
      },
      "execution_count": 163,
      "outputs": [
        {
          "output_type": "stream",
          "name": "stdout",
          "text": [
            "prior integral = \n",
            "1.176266352532705\n",
            "posterior integral = \n",
            "2.649063518660837e-51\n",
            "2.649063518660837e-51\n"
          ]
        }
      ]
    },
    {
      "cell_type": "code",
      "source": [
        "_ = plt.figure(figsize=(12,5)), plt.suptitle('Marginals')\n",
        "_ = plt.subplot(1,2,1), plt.xlabel('b')\n",
        "_ = plt.plot(b_array, simps(np.exp(np.reshape(posterior_array,(grid_size,grid_size))), m_array))\n",
        "_ = plt.subplot(1,2,2), plt.xlabel('m')\n",
        "_ = plt.plot(m_array, simps(np.exp(np.reshape(posterior_array,(grid_size,grid_size))).T, b_array))"
      ],
      "metadata": {
        "colab": {
          "base_uri": "https://localhost:8080/",
          "height": 331
        },
        "id": "IkFeDq5IF5bp",
        "outputId": "bb0e815d-30f6-4a27-ec35-9462a7d31c7d"
      },
      "execution_count": 164,
      "outputs": [
        {
          "output_type": "display_data",
          "data": {
            "text/plain": [
              "<Figure size 864x360 with 2 Axes>"
            ],
            "image/png": "[encoded data removed]"
          },
          "metadata": {
            "needs_background": "light"
          }
        }
      ]
    },
    {
      "cell_type": "code",
      "source": [
        "model_1 = integrate_2d(np.reshape(posterior_array,(grid_size,grid_size)), m_array, b_array)\n",
        "print(model_1)"
      ],
      "metadata": {
        "colab": {
          "base_uri": "https://localhost:8080/"
        },
        "id": "3VUiFYuVF6sO",
        "outputId": "aa74b327-f2a9-4b72-d41b-d13382877db9"
      },
      "execution_count": 165,
      "outputs": [
        {
          "output_type": "stream",
          "name": "stdout",
          "text": [
            "2.649063518660837e-51\n"
          ]
        }
      ]
    },
    {
      "cell_type": "code",
      "source": [
        "theta_array2 = np.vstack([m_array*0., b_array])"
      ],
      "metadata": {
        "id": "m0SCwOJbF89S"
      },
      "execution_count": 166,
      "outputs": []
    },
    {
      "cell_type": "code",
      "source": [
        "prior_array2 = np.array([log_prior(theta_array2[:,i]) \\\n",
        "                         for i in range(len(b_array))])\n",
        "\n",
        "likelihood_array2 = np.array([log_likelihood(theta_array2[:,i], x,y,ystd) \\\n",
        "                               for i in range(len(b_array))])\n",
        "\n",
        "posterior_array2 = likelihood_array2 + prior_array2"
      ],
      "metadata": {
        "id": "ExqQR8GeF-nW"
      },
      "execution_count": 167,
      "outputs": []
    },
    {
      "cell_type": "code",
      "source": [
        "_ = plt.figure(figsize=(12,5)),\n",
        "_ = plt.subplot(1,2,1), plt.xlabel('b'),  plt.title('Fixed m=0')\n",
        "_ = plt.plot(b_array, np.exp(posterior_array2))"
      ],
      "metadata": {
        "colab": {
          "base_uri": "https://localhost:8080/",
          "height": 350
        },
        "id": "wTRJUC6JGRAL",
        "outputId": "e73c0623-6db6-4082-c3b5-a8bcd618bbcc"
      },
      "execution_count": 168,
      "outputs": [
        {
          "output_type": "display_data",
          "data": {
            "text/plain": [
              "<Figure size 864x360 with 1 Axes>"
            ],
            "image/png": "[encoded data removed]"
          },
          "metadata": {
            "needs_background": "light"
          }
        }
      ]
    },
    {
      "cell_type": "code",
      "source": [
        "model_2 = simps(np.exp(posterior_array2), b_array)\n",
        "print(model_2)"
      ],
      "metadata": {
        "colab": {
          "base_uri": "https://localhost:8080/"
        },
        "id": "ZfupDbZvGTG6",
        "outputId": "6fa71996-4af0-4a0b-ebc2-8759f5a853c6"
      },
      "execution_count": 169,
      "outputs": [
        {
          "output_type": "stream",
          "name": "stdout",
          "text": [
            "5.868397236864229e-52\n"
          ]
        }
      ]
    },
    {
      "cell_type": "code",
      "source": [
        "bayes_factor = model_1/(model_2)\n",
        "print(bayes_factor)\n",
        "print(np.log(bayes_factor))"
      ],
      "metadata": {
        "colab": {
          "base_uri": "https://localhost:8080/"
        },
        "id": "53loXaMTGU_B",
        "outputId": "1bf4d7d3-2b24-46d0-c005-b0d0e7a7bbc0"
      },
      "execution_count": 170,
      "outputs": [
        {
          "output_type": "stream",
          "name": "stdout",
          "text": [
            "4.514117589075072\n",
            "1.50720972791761\n"
          ]
        }
      ]
    },
    {
      "cell_type": "code",
      "source": [
        "model_evidence_calc = model_1/(model_1 + model_2)\n",
        "print(model_evidence_calc)"
      ],
      "metadata": {
        "colab": {
          "base_uri": "https://localhost:8080/"
        },
        "id": "x3DrqI7Ch9f-",
        "outputId": "d3740827-5db4-4b39-d592-7bbe0040a5a6"
      },
      "execution_count": 171,
      "outputs": [
        {
          "output_type": "stream",
          "name": "stdout",
          "text": [
            "0.8186473204740383\n"
          ]
        }
      ]
    },
    {
      "cell_type": "markdown",
      "source": [
        "# Run evidence net"
      ],
      "metadata": {
        "id": "TT0sJQrLGv4i"
      }
    },
    {
      "cell_type": "code",
      "source": [
        "from tensorflow.keras import callbacks\n",
        "\n",
        "class simple_leaky:\n",
        "    \"\"\"\n",
        "    A simple MLP with LeakyReLU activation\n",
        "    \"\"\"\n",
        "    \n",
        "    def __init__(self, input_size, learning_rate=None):\n",
        "        \"\"\"\n",
        "        Initialisation\n",
        "        :param map_size: size of square image (there are map_size**2 pixels)\n",
        "        :param learning_rate: learning rate for the optimizer\n",
        "        \"\"\"\n",
        "        self.input_size = input_size\n",
        "        self.learning_rate = learning_rate\n",
        "        \n",
        "    def model(self):\n",
        "        print(self.input_size)\n",
        "        \n",
        "        input_data = (Input(shape=(self.input_size,)))\n",
        "\n",
        "        x1 = Dense(100, input_dim=self.input_size, kernel_initializer='normal')(input_data)\n",
        "        x1 = LeakyReLU(alpha=0.1)(x1)\n",
        "        x2 = Dense(150, kernel_initializer='normal')(x1)\n",
        "        x2 = LeakyReLU(alpha=0.1)(x2)\n",
        "        x3 = Dense(100, kernel_initializer='normal')(x2)\n",
        "        x3 = LeakyReLU(alpha=0.1)(x3)\n",
        "        x3 = Dense(100, kernel_initializer='normal')(x3)\n",
        "        x3 = LeakyReLU(alpha=0.1)(x3)\n",
        "        x4 = Dense(2, kernel_initializer='normal',activation='softmax')(x3)\n",
        "\n",
        "        dense_model = Model(input_data, x4)\n",
        "\n",
        "        if self.learning_rate is None:\n",
        "            dense_model.compile(optimizer='adam', loss='mse')\n",
        "        else:\n",
        "            dense_model.compile(optimizer=optimizers.Adam(learning_rate=self.learning_rate), loss='mse')\n",
        "\n",
        "        return dense_model\n",
        "\n",
        "class CustomCallback(callbacks.Callback):\n",
        "  def on_epoch_end(self, epoch, logs=None):\n",
        "      keys = list(logs.keys())\n",
        "      print(\"Loss: {:.5e}. Val loss: {:.5e}\".format(logs['loss'], logs['val_loss']))"
      ],
      "metadata": {
        "id": "uBm7dfOUJ6j8"
      },
      "execution_count": 172,
      "outputs": []
    },
    {
      "cell_type": "code",
      "source": [
        "loc_rescale = np.mean(y)\n",
        "scale_rescale = 20.*ystd"
      ],
      "metadata": {
        "id": "bFcFGmjxJ_kR"
      },
      "execution_count": 173,
      "outputs": []
    },
    {
      "cell_type": "code",
      "source": [
        "model_instance = simple_leaky(N, learning_rate=2e-5)\n",
        "regression = model_instance.model()\n",
        "regression.summary()"
      ],
      "metadata": {
        "colab": {
          "base_uri": "https://localhost:8080/"
        },
        "id": "vRmoq-5OJ9Wr",
        "outputId": "fe17cc62-846d-4467-aac8-be99256938a3"
      },
      "execution_count": 174,
      "outputs": [
        {
          "output_type": "stream",
          "name": "stdout",
          "text": [
            "24\n",
            "Model: \"model_45\"\n",
            "_________________________________________________________________\n",
            " Layer (type)                Output Shape              Param #   \n",
            "=================================================================\n",
            " input_46 (InputLayer)       [(None, 24)]              0         \n",
            "                                                                 \n",
            " dense_225 (Dense)           (None, 100)               2500      \n",
            "                                                                 \n",
            " leaky_re_lu_180 (LeakyReLU)  (None, 100)              0         \n",
            "                                                                 \n",
            " dense_226 (Dense)           (None, 150)               15150     \n",
            "                                                                 \n",
            " leaky_re_lu_181 (LeakyReLU)  (None, 150)              0         \n",
            "                                                                 \n",
            " dense_227 (Dense)           (None, 100)               15100     \n",
            "                                                                 \n",
            " leaky_re_lu_182 (LeakyReLU)  (None, 100)              0         \n",
            "                                                                 \n",
            " dense_228 (Dense)           (None, 100)               10100     \n",
            "                                                                 \n",
            " leaky_re_lu_183 (LeakyReLU)  (None, 100)              0         \n",
            "                                                                 \n",
            " dense_229 (Dense)           (None, 2)                 202       \n",
            "                                                                 \n",
            "=================================================================\n",
            "Total params: 43,052\n",
            "Trainable params: 43,052\n",
            "Non-trainable params: 0\n",
            "_________________________________________________________________\n"
          ]
        }
      ]
    },
    {
      "cell_type": "code",
      "source": [
        "n_steps = 100 # number of steps to generate new data\n",
        "epochs_per_step = 400 # number of network epochs per step\n",
        "validation_fraction = 0.1 # fraction of validation data\n",
        "n_sample_init = 1500 # initial number of simulations (samples)\n",
        "\n",
        "# new model samples fraction compared to optimal number of new samples,\n",
        "# keep this below 1, as training noise can over predict bayes factor\n",
        "training_prior_update_epsilon = 0.4\n",
        "\n",
        "\n",
        "training_m = np.zeros(shape=((0,)))\n",
        "training_b = np.zeros(shape=((0,)))\n",
        "training_model = np.zeros(shape=((0,2)))\n",
        "training_data = np.zeros((0,N), dtype = 'float')\n",
        "history_loss = np.zeros(shape=((0,)))\n",
        "history_val_loss = np.zeros(shape=((0,)))\n",
        "model_flag = None\n",
        "\n",
        "for step in np.arange(n_steps):\n",
        "\n",
        "  # Each step, we choose the number of new samples\n",
        "  if model_flag==0:\n",
        "      n_sample = (0.5/estimated_model_evidence[0] - 1) * np.sum(training_model[:,1])\n",
        "      n_sample = int(n_sample*training_prior_update_epsilon)\n",
        "      print(n_sample, 0)\n",
        "      training_model_new = np.ones(n_sample)\n",
        "  elif model_flag==1:\n",
        "      n_sample = (0.5/estimated_model_evidence[1] - 1) * np.sum(training_model[:,1])\n",
        "      n_sample = int(n_sample*training_prior_update_epsilon)\n",
        "      print(n_sample, 1)\n",
        "      training_model_new = np.zeros(n_sample) \n",
        "  else:\n",
        "    n_sample = n_sample_init\n",
        "    training_model_new = np.round(np.random.uniform(0,1,n_sample))\n",
        "\n",
        "\n",
        "  training_m_new = np.random.uniform(-0.2,0.2,n_sample)\n",
        "  training_b_new = np.random.uniform(-10,60,n_sample)\n",
        "\n",
        "  training_model_new = np.vstack([training_model_new,\n",
        "                                  np.abs(1-training_model_new)]).T\n",
        "\n",
        "\n",
        "\n",
        "  training_m_new = np.where(training_model_new[:,0]>0.5,\n",
        "                            training_m_new, 0.)\n",
        "\n",
        "  training_data_new = np.zeros((n_sample,N), dtype = 'float')\n",
        "\n",
        "  for j in range(n_sample):\n",
        "      training_data_new[j] =  np.random.normal(training_m_new[j] * x + training_b_new[j],\n",
        "                                               ystd)\n",
        "      \n",
        "  training_m = np.concatenate([training_m, training_m_new])\n",
        "  training_b = np.concatenate([training_b, training_b_new])\n",
        "  training_model = np.vstack([training_model, training_model_new])\n",
        "  training_data = np.vstack([training_data, training_data_new])\n",
        "\n",
        "  shuffled_indices = np.random.permutation(training_b.shape[0])\n",
        "  training_m = training_m[shuffled_indices]\n",
        "  training_b = training_b[shuffled_indices]\n",
        "  training_model = training_model[shuffled_indices]\n",
        "  training_data = training_data[shuffled_indices]\n",
        "\n",
        "\n",
        "  print('Current prior model ratio (model 0/model 1): ',\n",
        "        np.mean(training_model[:,0])/np.mean(training_model[:,1]),\n",
        "        flush=True)\n",
        "\n",
        "  if model_flag == None:\n",
        "    _ = plt.hist(0.5+((training_data[:]-loc_rescale)/scale_rescale).flatten(),\n",
        "                 bins=64), plt.show()\n",
        "\n",
        "\n",
        "  n_training_current = int(training_model.shape[0])\n",
        "  n_validation = int(validation_fraction*training_model.shape[0])\n",
        "\n",
        "  regression = model_instance.model()\n",
        "  initial_weights = regression.get_weights()\n",
        "\n",
        "  history = regression.fit((0.5+(training_data[:-n_validation]-loc_rescale)/scale_rescale),\n",
        "                               np.atleast_2d(training_model[:-n_validation]),\n",
        "                               epochs =epochs_per_step-1,batch_size =64, shuffle=True,\n",
        "                               validation_data = ((0.5+(training_data[-n_validation:]-loc_rescale)/scale_rescale),\n",
        "                               np.atleast_2d(training_model[-n_validation:])),\n",
        "                           verbose=0)\n",
        "  \n",
        "\n",
        "  history_loss = np.concatenate([history_loss,\n",
        "                                 np.array(history.history['loss']).flatten()])\n",
        "  history_val_loss = np.concatenate([history_val_loss,\n",
        "                                 np.array(history.history['val_loss']).flatten()])\n",
        "  \n",
        "  history = regression.fit((0.5+(training_data[:-n_validation]-loc_rescale)/scale_rescale),\n",
        "                               np.atleast_2d(training_model[:-n_validation]),\n",
        "                               epochs =1,batch_size =64, shuffle=True,\n",
        "                               validation_data = ((0.5+(training_data[-n_validation:]-loc_rescale)/scale_rescale),\n",
        "                               np.atleast_2d(training_model[-n_validation:])),\n",
        "                           verbose=2)\n",
        "\n",
        "\n",
        "\n",
        "  history_loss = np.concatenate([history_loss,\n",
        "                                 np.array(history.history['loss']).flatten()])\n",
        "  history_val_loss = np.concatenate([history_val_loss,\n",
        "                                 np.array(history.history['val_loss']).flatten()])\n",
        "\n",
        "  estimated_model_evidence = regression.predict(np.atleast_2d(0.5+(y-loc_rescale)/scale_rescale))[0]\n",
        "  estimated_bayes_factor = estimated_model_evidence[0]/estimated_model_evidence[1]\n",
        "\n",
        "  prior_ratio = np.mean(training_model[:,0])/np.mean(training_model[:,1])\n",
        "  \n",
        "  bayes_factor = estimated_bayes_factor/prior_ratio\n",
        "  \n",
        "  if estimated_model_evidence[0] < 0.5:\n",
        "    model_flag = 0.\n",
        "  else:\n",
        "    model_flag = 1.\n",
        "\n",
        "  print('Network evidence model 0: ', estimated_model_evidence[0])\n",
        "  print('Network Bayes factor: ', estimated_bayes_factor)\n",
        "  print('Training prior ratio: ', prior_ratio)\n",
        "  print('Corrected Bayes factor: ', bayes_factor)\n",
        "  print('Corrected evidence model 0: ', bayes_factor/(bayes_factor+1))\n",
        "  print('Next step, more training data from model ' + str(model_flag), flush=True)\n",
        "  regression.set_weights(initial_weights)\n",
        "  gc.collect()\n"
      ],
      "metadata": {
        "colab": {
          "base_uri": "https://localhost:8080/",
          "height": 1000
        },
        "id": "XOEXY42BGg6Y",
        "outputId": "fac29172-ccf1-4b79-bf52-2409e6704809"
      },
      "execution_count": null,
      "outputs": [
        {
          "output_type": "stream",
          "name": "stdout",
          "text": [
            "Current prior model ratio (model 0/model 1):  1.0107238605898123\n"
          ]
        },
        {
          "output_type": "display_data",
          "data": {
            "text/plain": [
              "<Figure size 432x288 with 1 Axes>"
            ],
            "image/png": "[encoded data removed]"
          },
          "metadata": {
            "needs_background": "light"
          }
        },
        {
          "output_type": "stream",
          "name": "stdout",
          "text": [
            "24\n",
            "22/22 - 0s - loss: 0.1249 - val_loss: 0.1179 - 96ms/epoch - 4ms/step\n",
            "Network evidence model 0:  0.84317076\n",
            "Network Bayes factor:  5.3763614\n",
            "Training prior ratio:  1.0107238605898123\n",
            "Corrected Bayes factor:  5.319317748122885\n",
            "Corrected evidence model 0:  0.841755069161217\n",
            "Next step, more training data from model 1.0\n",
            "652 1\n",
            "652 1\n",
            "Current prior model ratio (model 0/model 1):  0.5393419170243204\n",
            "24\n",
            "31/31 - 0s - loss: 0.1050 - val_loss: 0.1235 - 113ms/epoch - 4ms/step\n",
            "Network evidence model 0:  0.77255815\n",
            "Network Bayes factor:  3.3967292\n",
            "Training prior ratio:  0.5393419170243204\n",
            "Corrected Bayes factor:  6.29791440951097\n",
            "Corrected evidence model 0:  0.8629745508255406\n",
            "Next step, more training data from model 1.0\n",
            "670 1\n",
            "670 1\n",
            "Current prior model ratio (model 0/model 1):  0.3646034816247582\n",
            "24\n",
            "40/40 - 0s - loss: 0.1013 - val_loss: 0.1013 - 152ms/epoch - 4ms/step\n",
            "Network evidence model 0:  0.40372163\n",
            "Network Bayes factor:  0.6770691\n",
            "Training prior ratio:  0.3646034816247582\n",
            "Corrected Bayes factor:  1.8570012676304786\n",
            "Corrected evidence model 0:  0.6499826544251506\n",
            "Next step, more training data from model 0.0\n",
            "197 0\n",
            "197 0\n",
            "Current prior model ratio (model 0/model 1):  0.4598646034816248\n",
            "24\n",
            "43/43 - 0s - loss: 0.0951 - val_loss: 0.1006 - 164ms/epoch - 4ms/step\n",
            "Network evidence model 0:  0.7055381\n",
            "Network Bayes factor:  2.3960252\n",
            "Training prior ratio:  0.4598646034816248\n",
            "Corrected Bayes factor:  5.210283989409919\n",
            "Corrected evidence model 0:  0.8389767679376259\n",
            "Next step, more training data from model 1.0\n",
            "577 1\n",
            "577 1\n",
            "Current prior model ratio (model 0/model 1):  0.35954631379962193\n",
            "24\n",
            "51/51 - 0s - loss: 0.0858 - val_loss: 0.0726 - 161ms/epoch - 3ms/step\n",
            "Network evidence model 0:  0.6397574\n",
            "Network Bayes factor:  1.7759069\n",
            "Training prior ratio:  0.35954631379962193\n",
            "Corrected Bayes factor:  4.939299479017247\n",
            "Corrected evidence model 0:  0.8316299752971092\n",
            "Next step, more training data from model 1.0\n",
            "410 1\n",
            "410 1\n",
            "Current prior model ratio (model 0/model 1):  0.3112929623567921\n",
            "24\n",
            "57/57 - 0s - loss: 0.0798 - val_loss: 0.0643 - 188ms/epoch - 3ms/step\n",
            "Network evidence model 0:  0.7282836\n",
            "Network Bayes factor:  2.6803083\n",
            "Training prior ratio:  0.3112929623567921\n",
            "Corrected Bayes factor:  8.610243937695943\n",
            "Corrected evidence model 0:  0.8959443686879243\n",
            "Next step, more training data from model 1.0\n",
            "1026 1\n",
            "1026 1\n",
            "Current prior model ratio (model 0/model 1):  0.23303111982357266\n",
            "24\n",
            "71/71 - 0s - loss: 0.0640 - val_loss: 0.0845 - 216ms/epoch - 3ms/step\n",
            "Network evidence model 0:  0.725768\n",
            "Network Bayes factor:  2.6465478\n",
            "Training prior ratio:  0.23303111982357266\n",
            "Corrected Bayes factor:  11.357057359316372\n",
            "Corrected evidence model 0:  0.9190745845938743\n",
            "Next step, more training data from model 1.0\n",
            "1343 1\n",
            "1343 1\n",
            "Current prior model ratio (model 0/model 1):  0.17533185840707965\n",
            "24\n",
            "90/90 - 0s - loss: 0.0612 - val_loss: 0.0643 - 258ms/epoch - 3ms/step\n",
            "Network evidence model 0:  0.49083528\n",
            "Network Bayes factor:  0.9640009\n",
            "Training prior ratio:  0.17533185840707965\n",
            "Corrected Bayes factor:  5.498150133560133\n",
            "Corrected evidence model 0:  0.8461100498685875\n",
            "Next step, more training data from model 0.0\n",
            "40 0\n",
            "40 0\n",
            "Current prior model ratio (model 0/model 1):  0.18270648967551623\n",
            "24\n",
            "91/91 - 0s - loss: 0.0988 - val_loss: 0.0973 - 472ms/epoch - 5ms/step\n",
            "Network evidence model 0:  0.09439821\n",
            "Network Bayes factor:  0.10423809\n",
            "Training prior ratio:  0.18270648967551623\n",
            "Corrected Bayes factor:  0.5705221149202071\n",
            "Corrected evidence model 0:  0.36326907434168376\n",
            "Next step, more training data from model 0.0\n",
            "9322 0\n",
            "9322 0\n",
            "Current prior model ratio (model 0/model 1):  1.901364306784661\n",
            "24\n",
            "222/222 - 1s - loss: 0.1229 - val_loss: 0.1302 - 550ms/epoch - 2ms/step\n",
            "Network evidence model 0:  0.91281843\n",
            "Network Bayes factor:  10.470314\n",
            "Training prior ratio:  1.901364306784661\n",
            "Corrected Bayes factor:  5.506737445589758\n",
            "Corrected evidence model 0:  0.8463131472013219\n",
            "Next step, more training data from model 1.0\n",
            "10273 1\n",
            "10273 1\n",
            "Current prior model ratio (model 0/model 1):  0.6570045231572912\n",
            "24\n"
          ]
        }
      ]
    },
    {
      "cell_type": "code",
      "source": [
        "plt.plot(history_loss)\n",
        "plt.plot(history_val_loss, ':')"
      ],
      "metadata": {
        "id": "V_vozeydHgEo"
      },
      "execution_count": null,
      "outputs": []
    }
  ]
}