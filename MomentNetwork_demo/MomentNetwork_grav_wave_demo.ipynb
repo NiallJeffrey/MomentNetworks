{
  "nbformat": 4,
  "nbformat_minor": 0,
  "metadata": {
    "colab": {
      "name": "MomentNetwork_grav_wave_demo.ipynb",
      "provenance": [],
      "collapsed_sections": [],
      "authorship_tag": "ABX9TyOcbhTcF7PV5hibVFhW/Kxa",
      "include_colab_link": true
    },
    "kernelspec": {
      "name": "python3",
      "display_name": "Python 3"
    }
  },
  "cells": [
    {
      "cell_type": "markdown",
      "metadata": {
        "id": "view-in-github",
        "colab_type": "text"
      },
      "source": [
        "<a href=\"https://colab.research.google.com/github/NiallJeffrey/MomentNetworks/blob/master/MomentNetwork_demo/MomentNetwork_grav_wave_demo.ipynb\" target=\"_parent\"><img src=\"https://colab.research.google.com/assets/colab-badge.svg\" alt=\"Open In Colab\"/></a>"
      ]
    },
    {
      "cell_type": "code",
      "metadata": {
        "id": "3GQCvYHXIFVu",
        "outputId": "f909e2b1-2b04-4b36-da88-066567c2685e",
        "colab": {
          "base_uri": "https://localhost:8080/"
        }
      },
      "source": [
        "import sys\n",
        "!{sys.executable} -m pip install pycbc lalsuite ligo-common --no-cache-dir\n",
        "!pip install 'git+https://github.com/NiallJeffrey/MomentNetworks.git'"
      ],
      "execution_count": 1,
      "outputs": [
        {
          "output_type": "stream",
          "text": [
            "Requirement already satisfied: pycbc in /usr/local/lib/python3.6/dist-packages (1.16.12)\n",
            "Requirement already satisfied: lalsuite in /usr/local/lib/python3.6/dist-packages (6.78)\n",
            "Requirement already satisfied: ligo-common in /usr/local/lib/python3.6/dist-packages (1.0.3)\n",
            "Requirement already satisfied: decorator>=3.4.2 in /usr/local/lib/python3.6/dist-packages (from pycbc) (4.4.2)\n",
            "Requirement already satisfied: gwdatafind in /usr/local/lib/python3.6/dist-packages (from pycbc) (1.0.4)\n",
            "Requirement already satisfied: h5py>=2.5 in /usr/local/lib/python3.6/dist-packages (from pycbc) (2.10.0)\n",
            "Requirement already satisfied: numpy<1.19,>=1.16.0; python_version >= \"3.5\" in /usr/local/lib/python3.6/dist-packages (from pycbc) (1.18.5)\n",
            "Requirement already satisfied: scipy>=0.16.0; python_version >= \"3.5\" in /usr/local/lib/python3.6/dist-packages (from pycbc) (1.4.1)\n",
            "Requirement already satisfied: cython>=0.29 in /usr/local/lib/python3.6/dist-packages (from pycbc) (0.29.21)\n",
            "Requirement already satisfied: six>=1.10.0 in /usr/local/lib/python3.6/dist-packages (from pycbc) (1.15.0)\n",
            "Requirement already satisfied: ligo-segments in /usr/local/lib/python3.6/dist-packages (from pycbc) (1.2.0)\n",
            "Requirement already satisfied: jinja2 in /usr/local/lib/python3.6/dist-packages (from pycbc) (2.11.2)\n",
            "Requirement already satisfied: lscsoft-glue>=1.59.3 in /usr/local/lib/python3.6/dist-packages (from pycbc) (2.0.0)\n",
            "Requirement already satisfied: beautifulsoup4>=4.6.0 in /usr/local/lib/python3.6/dist-packages (from pycbc) (4.6.3)\n",
            "Requirement already satisfied: tqdm in /usr/local/lib/python3.6/dist-packages (from pycbc) (4.41.1)\n",
            "Requirement already satisfied: pillow in /usr/local/lib/python3.6/dist-packages (from pycbc) (7.0.0)\n",
            "Requirement already satisfied: astropy>=2.0.3; python_version > \"3.0\" in /usr/local/lib/python3.6/dist-packages (from pycbc) (4.1)\n",
            "Requirement already satisfied: requests>=1.2.1 in /usr/local/lib/python3.6/dist-packages (from pycbc) (2.23.0)\n",
            "Requirement already satisfied: matplotlib>=1.5.1 in /usr/local/lib/python3.6/dist-packages (from pycbc) (3.2.2)\n",
            "Requirement already satisfied: Mako>=1.0.1 in /usr/local/lib/python3.6/dist-packages (from pycbc) (1.1.3)\n",
            "Requirement already satisfied: mpld3>=0.3 in /usr/local/lib/python3.6/dist-packages (from pycbc) (0.5.1)\n",
            "Requirement already satisfied: emcee==2.2.1 in /usr/local/lib/python3.6/dist-packages (from pycbc) (2.2.1)\n",
            "Requirement already satisfied: python-dateutil in /usr/local/lib/python3.6/dist-packages (from lalsuite) (2.8.1)\n",
            "Requirement already satisfied: importlib-resources; python_version < \"3.7\" in /usr/local/lib/python3.6/dist-packages (from lalsuite) (3.3.0)\n",
            "Requirement already satisfied: pyOpenSSL in /usr/local/lib/python3.6/dist-packages (from gwdatafind->pycbc) (19.1.0)\n",
            "Requirement already satisfied: MarkupSafe>=0.23 in /usr/local/lib/python3.6/dist-packages (from jinja2->pycbc) (1.1.1)\n",
            "Requirement already satisfied: chardet<4,>=3.0.2 in /usr/local/lib/python3.6/dist-packages (from requests>=1.2.1->pycbc) (3.0.4)\n",
            "Requirement already satisfied: certifi>=2017.4.17 in /usr/local/lib/python3.6/dist-packages (from requests>=1.2.1->pycbc) (2020.6.20)\n",
            "Requirement already satisfied: idna<3,>=2.5 in /usr/local/lib/python3.6/dist-packages (from requests>=1.2.1->pycbc) (2.10)\n",
            "Requirement already satisfied: urllib3!=1.25.0,!=1.25.1,<1.26,>=1.21.1 in /usr/local/lib/python3.6/dist-packages (from requests>=1.2.1->pycbc) (1.24.3)\n",
            "Requirement already satisfied: cycler>=0.10 in /usr/local/lib/python3.6/dist-packages (from matplotlib>=1.5.1->pycbc) (0.10.0)\n",
            "Requirement already satisfied: kiwisolver>=1.0.1 in /usr/local/lib/python3.6/dist-packages (from matplotlib>=1.5.1->pycbc) (1.3.1)\n",
            "Requirement already satisfied: pyparsing!=2.0.4,!=2.1.2,!=2.1.6,>=2.0.1 in /usr/local/lib/python3.6/dist-packages (from matplotlib>=1.5.1->pycbc) (2.4.7)\n",
            "Requirement already satisfied: zipp>=0.4; python_version < \"3.8\" in /usr/local/lib/python3.6/dist-packages (from importlib-resources; python_version < \"3.7\"->lalsuite) (3.4.0)\n",
            "Requirement already satisfied: cryptography>=2.8 in /usr/local/lib/python3.6/dist-packages (from pyOpenSSL->gwdatafind->pycbc) (3.2.1)\n",
            "Requirement already satisfied: cffi!=1.11.3,>=1.8 in /usr/local/lib/python3.6/dist-packages (from cryptography>=2.8->pyOpenSSL->gwdatafind->pycbc) (1.14.3)\n",
            "Requirement already satisfied: pycparser in /usr/local/lib/python3.6/dist-packages (from cffi!=1.11.3,>=1.8->cryptography>=2.8->pyOpenSSL->gwdatafind->pycbc) (2.20)\n",
            "Collecting git+https://github.com/NiallJeffrey/MomentNetworks.git\n",
            "  Cloning https://github.com/NiallJeffrey/MomentNetworks.git to /tmp/pip-req-build-yb1wq3c2\n",
            "  Running command git clone -q https://github.com/NiallJeffrey/MomentNetworks.git /tmp/pip-req-build-yb1wq3c2\n",
            "Requirement already satisfied (use --upgrade to upgrade): momentnetworks==0.1 from git+https://github.com/NiallJeffrey/MomentNetworks.git in /usr/local/lib/python3.6/dist-packages\n",
            "Requirement already satisfied: emcee in /usr/local/lib/python3.6/dist-packages (from momentnetworks==0.1) (2.2.1)\n",
            "Requirement already satisfied: getdist in /usr/local/lib/python3.6/dist-packages (from momentnetworks==0.1) (1.1.2)\n",
            "Requirement already satisfied: chainconsumer in /usr/local/lib/python3.6/dist-packages (from momentnetworks==0.1) (0.32.0)\n",
            "Requirement already satisfied: scipy in /usr/local/lib/python3.6/dist-packages (from momentnetworks==0.1) (1.4.1)\n",
            "Requirement already satisfied: matplotlib in /usr/local/lib/python3.6/dist-packages (from momentnetworks==0.1) (3.2.2)\n",
            "Requirement already satisfied: numpy in /usr/local/lib/python3.6/dist-packages (from emcee->momentnetworks==0.1) (1.18.5)\n",
            "Requirement already satisfied: pandas in /usr/local/lib/python3.6/dist-packages (from chainconsumer->momentnetworks==0.1) (1.1.4)\n",
            "Requirement already satisfied: statsmodels>=0.7.0 in /usr/local/lib/python3.6/dist-packages (from chainconsumer->momentnetworks==0.1) (0.10.2)\n",
            "Requirement already satisfied: kiwisolver>=1.0.1 in /usr/local/lib/python3.6/dist-packages (from matplotlib->momentnetworks==0.1) (1.3.1)\n",
            "Requirement already satisfied: python-dateutil>=2.1 in /usr/local/lib/python3.6/dist-packages (from matplotlib->momentnetworks==0.1) (2.8.1)\n",
            "Requirement already satisfied: pyparsing!=2.0.4,!=2.1.2,!=2.1.6,>=2.0.1 in /usr/local/lib/python3.6/dist-packages (from matplotlib->momentnetworks==0.1) (2.4.7)\n",
            "Requirement already satisfied: cycler>=0.10 in /usr/local/lib/python3.6/dist-packages (from matplotlib->momentnetworks==0.1) (0.10.0)\n",
            "Requirement already satisfied: pytz>=2017.2 in /usr/local/lib/python3.6/dist-packages (from pandas->chainconsumer->momentnetworks==0.1) (2018.9)\n",
            "Requirement already satisfied: patsy>=0.4.0 in /usr/local/lib/python3.6/dist-packages (from statsmodels>=0.7.0->chainconsumer->momentnetworks==0.1) (0.5.1)\n",
            "Requirement already satisfied: six>=1.5 in /usr/local/lib/python3.6/dist-packages (from python-dateutil>=2.1->matplotlib->momentnetworks==0.1) (1.15.0)\n",
            "Building wheels for collected packages: momentnetworks\n",
            "  Building wheel for momentnetworks (setup.py) ... \u001b[?25l\u001b[?25hdone\n",
            "  Created wheel for momentnetworks: filename=momentnetworks-0.1-cp36-none-any.whl size=4190 sha256=45c94e377e88599cf3be2852a88b2f5f63d822d0d2d310769075508b33d1d7e4\n",
            "  Stored in directory: /tmp/pip-ephem-wheel-cache-oa5e_t1v/wheels/d5/90/42/833efe39b17eb037678ff241c8946e912987034b18c69e2813\n",
            "Successfully built momentnetworks\n"
          ],
          "name": "stdout"
        }
      ]
    },
    {
      "cell_type": "code",
      "metadata": {
        "id": "mu9TTIBUIG_q"
      },
      "source": [
        "import matplotlib.pyplot as plt\n",
        "import numpy as np\n",
        "import time\n",
        "from scipy import signal\n",
        "from google.colab import files\n",
        "from pycbc.waveform import get_td_waveform\n",
        "import pycbc.noise\n",
        "import pycbc.psd\n",
        "import random\n",
        "from momentnetworks import demo\n",
        "import gc"
      ],
      "execution_count": 2,
      "outputs": []
    },
    {
      "cell_type": "markdown",
      "metadata": {
        "id": "iS8237oGdeTm"
      },
      "source": [
        "# Generate simulated waveforms and noisy data"
      ]
    },
    {
      "cell_type": "code",
      "metadata": {
        "id": "3u6MvpXnIIzm"
      },
      "source": [
        "%matplotlib inline"
      ],
      "execution_count": 3,
      "outputs": []
    },
    {
      "cell_type": "code",
      "metadata": {
        "id": "tj28euIwIP6f",
        "outputId": "84051ade-5d3f-4162-d70a-ffce6b7b445d",
        "colab": {
          "base_uri": "https://localhost:8080/"
        }
      },
      "source": [
        "n_training = 5000\n",
        "n_training_samples = n_training*16\n",
        "print('Number of training samples = '+str(n_training_samples))"
      ],
      "execution_count": 4,
      "outputs": [
        {
          "output_type": "stream",
          "text": [
            "Number of training samples = 80000\n"
          ],
          "name": "stdout"
        }
      ]
    },
    {
      "cell_type": "code",
      "metadata": {
        "id": "9S0U1AbRPL3s",
        "outputId": "5870c201-4cb7-487d-efd2-7ba990e7356e",
        "colab": {
          "base_uri": "https://localhost:8080/"
        }
      },
      "source": [
        "mass_1_samples = np.random.uniform(10,30,n_training)\n",
        "mass_2_samples = np.random.uniform(10,30,n_training)\n",
        "distance_samples = np.random.uniform(500,1500,n_training)\n",
        "sim_data, sim_data_noisy = demo.grav_wave_series(n_training,\n",
        "                                                 mass_1_samples=mass_1_samples,\n",
        "                                                 mass_2_samples=mass_2_samples,\n",
        "                                                 distance_samples=distance_samples)\n",
        "noise_alone = sim_data_noisy - sim_data"
      ],
      "execution_count": null,
      "outputs": [
        {
          "output_type": "stream",
          "text": [
            "0/5000\n",
            "200/5000\n",
            "400/5000\n",
            "600/5000\n",
            "800/5000\n"
          ],
          "name": "stdout"
        }
      ]
    },
    {
      "cell_type": "code",
      "metadata": {
        "id": "NUVEjB4kIY7u"
      },
      "source": [
        "_ =plt.figure(figsize=(14,4))\n",
        "_ = plt.subplot(1,2,1)\n",
        "_ = plt.ylabel(r'$h_+$ strain',fontsize=14)\n",
        "_ =plt.plot(np.linspace(0,1/16.,128)-1/8.,sim_data_noisy[63,:], alpha=0.5), plt.ylim(-.8,0.8)\n",
        "_ =plt.plot(np.linspace(0,1/16.,128)-1/8.,sim_data[63,:], 'C1--'), plt.xlabel(r'$t\\ /$ seconds',fontsize=14)\n",
        "_ = plt.subplot(1,2,2)\n",
        "_ = plt.ylabel(r'$h_+$ strain',fontsize=14)\n",
        "_ =plt.plot(np.linspace(0,1/16.,128)-1/16.,sim_data_noisy[63+int(n_training*8),:], alpha=0.5), plt.ylim(-0.8,0.8)\n",
        "_ =plt.plot(np.linspace(0,1/16.,128)-1/16.,sim_data[63+int(n_training*8),:], 'C1--'), plt.xlabel(r'$t\\ /$ seconds',fontsize=14)\n"
      ],
      "execution_count": null,
      "outputs": []
    },
    {
      "cell_type": "code",
      "metadata": {
        "id": "veadT_Gndkcy"
      },
      "source": [
        ""
      ],
      "execution_count": null,
      "outputs": []
    },
    {
      "cell_type": "markdown",
      "metadata": {
        "id": "H_d2FftXdnLp"
      },
      "source": [
        "# Train moment network"
      ]
    },
    {
      "cell_type": "code",
      "metadata": {
        "id": "mczQ-AcrL7HN"
      },
      "source": [
        "gc.collect()\n",
        "validation_index = np.int(n_training * 7)\n",
        "model_instance = demo.simple_leaky(128,128, learning_rate=1e-4)\n",
        "regression = model_instance.model()\n",
        "\n",
        "history = regression.fit(sim_data_noisy[:validation_index]+0.5,\n",
        "                               sim_data[:validation_index]+0.5,\n",
        "                               epochs =500,batch_size =512, shuffle=True,\n",
        "                               validation_data = (sim_data_noisy[validation_index:]+0.5,\n",
        "                               sim_data[validation_index:]+0.5))"
      ],
      "execution_count": null,
      "outputs": []
    },
    {
      "cell_type": "code",
      "metadata": {
        "id": "q0BG10VNU6wA"
      },
      "source": [
        "predicted_mean = regression.predict(np.atleast_2d(sim_data_noisy[:]+0.5))\n",
        "training_var_unknown_mean = (sim_data[:]+0.5-predicted_mean)**2.\n",
        "training_var_unknown_mean.shape"
      ],
      "execution_count": null,
      "outputs": []
    },
    {
      "cell_type": "code",
      "metadata": {
        "id": "w-3qy3I8WYWZ"
      },
      "source": [
        "model_instance = demo.simpler_leaky(128,128, learning_rate=1e-4)\n",
        "regression_var_unknown_mean = model_instance.model()\n",
        "history = regression_var_unknown_mean.fit(sim_data_noisy[:validation_index]+0.5,\n",
        "                                          training_var_unknown_mean[:validation_index]*1e3,\n",
        "                                          epochs =40,batch_size =256, shuffle=True,\n",
        "                                          validation_data = (sim_data_noisy[validation_index:]+0.5,\n",
        "                                                             training_var_unknown_mean[validation_index:]*1e3))"
      ],
      "execution_count": null,
      "outputs": []
    },
    {
      "cell_type": "code",
      "metadata": {
        "id": "fZ0KDMs8Wh--"
      },
      "source": [
        "for i_index in np.arange(57+int(n_training*8),63+int(n_training*8)):\n",
        "  print(i_index)\n",
        "  predicted_var_obs = (regression_var_unknown_mean.predict(np.atleast_2d(sim_data_noisy[i_index]+0.5))[0])*1e-3\n",
        "  predicted_mean_obs = (regression.predict(np.atleast_2d(sim_data_noisy[i_index,]+0.5))[0])\n",
        "  plt.figure(figsize=(12,4))\n",
        "  _ = plt.subplot(1,2,1)\n",
        "  _ = plt.ylabel(r'$h_+$ strain',fontsize=14)\n",
        "  plt.fill_between(np.linspace(0,1./16,128),\n",
        "                  predicted_mean_obs-0.5- np.sqrt(predicted_var_obs),\n",
        "                  predicted_mean_obs + np.sqrt(predicted_var_obs)-0.5, alpha=0.5)\n",
        "  plt.scatter(np.linspace(0,1./16,128),sim_data_noisy[i_index,], alpha=0.8)\n",
        "  plt.plot(np.linspace(0,1./16,128),sim_data[i_index,], c='C2')\n",
        "  plt.xlabel(r'$t\\ /$ seconds',fontsize=14), plt.show()"
      ],
      "execution_count": null,
      "outputs": []
    },
    {
      "cell_type": "code",
      "metadata": {
        "id": "UITQ-8CzWq8k"
      },
      "source": [
        ""
      ],
      "execution_count": null,
      "outputs": []
    }
  ]
}