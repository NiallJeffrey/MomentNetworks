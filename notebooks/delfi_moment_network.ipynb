{
  "nbformat": 4,
  "nbformat_minor": 0,
  "metadata": {
    "colab": {
      "name": "delfi_moment_network.ipynb",
      "provenance": [],
      "authorship_tag": "ABX9TyP39g/MQ02sI8TX25CWBInQ",
      "include_colab_link": true
    },
    "kernelspec": {
      "name": "python3",
      "display_name": "Python 3"
    },
    "accelerator": "GPU"
  },
  "cells": [
    {
      "cell_type": "markdown",
      "metadata": {
        "id": "view-in-github",
        "colab_type": "text"
      },
      "source": [
        "<a href=\"https://colab.research.google.com/github/NiallJeffrey/MomentNetworks/blob/master/notebooks/delfi_moment_network.ipynb\" target=\"_parent\"><img src=\"https://colab.research.google.com/assets/colab-badge.svg\" alt=\"Open In Colab\"/></a>"
      ]
    },
    {
      "cell_type": "markdown",
      "metadata": {
        "id": "kglG6udW_1PU",
        "colab_type": "text"
      },
      "source": [
        "## This notebook demonstrates estimation of the marginal posteriors using MomentNetworks"
      ]
    },
    {
      "cell_type": "markdown",
      "metadata": {
        "id": "l0OiUaB29hP6",
        "colab_type": "text"
      },
      "source": [
        "# Load modules"
      ]
    },
    {
      "cell_type": "code",
      "metadata": {
        "id": "RkhOQE7TKEuO",
        "colab_type": "code",
        "colab": {
          "base_uri": "https://localhost:8080/",
          "height": 200
        },
        "outputId": "d482264a-6271-41ca-c853-daf40a0c223e"
      },
      "source": [
        "!pip install emcee getdist"
      ],
      "execution_count": 1,
      "outputs": [
        {
          "output_type": "stream",
          "text": [
            "Requirement already satisfied: emcee in /usr/local/lib/python3.6/dist-packages (3.0.2)\n",
            "Requirement already satisfied: getdist in /usr/local/lib/python3.6/dist-packages (1.1.2)\n",
            "Requirement already satisfied: numpy in /usr/local/lib/python3.6/dist-packages (from emcee) (1.18.5)\n",
            "Requirement already satisfied: matplotlib>=2.2.0 in /usr/local/lib/python3.6/dist-packages (from getdist) (3.2.2)\n",
            "Requirement already satisfied: scipy>=1.0.0 in /usr/local/lib/python3.6/dist-packages (from getdist) (1.4.1)\n",
            "Requirement already satisfied: cycler>=0.10 in /usr/local/lib/python3.6/dist-packages (from matplotlib>=2.2.0->getdist) (0.10.0)\n",
            "Requirement already satisfied: python-dateutil>=2.1 in /usr/local/lib/python3.6/dist-packages (from matplotlib>=2.2.0->getdist) (2.8.1)\n",
            "Requirement already satisfied: pyparsing!=2.0.4,!=2.1.2,!=2.1.6,>=2.0.1 in /usr/local/lib/python3.6/dist-packages (from matplotlib>=2.2.0->getdist) (2.4.7)\n",
            "Requirement already satisfied: kiwisolver>=1.0.1 in /usr/local/lib/python3.6/dist-packages (from matplotlib>=2.2.0->getdist) (1.2.0)\n",
            "Requirement already satisfied: six in /usr/local/lib/python3.6/dist-packages (from cycler>=0.10->matplotlib>=2.2.0->getdist) (1.15.0)\n"
          ],
          "name": "stdout"
        }
      ]
    },
    {
      "cell_type": "code",
      "metadata": {
        "id": "vuFx4u1vJ2hi",
        "colab_type": "code",
        "colab": {}
      },
      "source": [
        "import matplotlib.pyplot as plt\n",
        "import matplotlib.colors as colors\n",
        "import numpy as np\n",
        "from scipy.stats import norm\n",
        "from scipy.stats import multivariate_normal\n",
        "from scipy import fftpack\n",
        "\n",
        "from tensorflow.keras.models import Sequential\n",
        "from tensorflow.keras.layers import Dense, Dropout, LeakyReLU, Input\n",
        "from tensorflow.keras.layers import concatenate, BatchNormalization\n",
        "from tensorflow.keras.models import Model\n",
        "from tensorflow.keras import optimizers"
      ],
      "execution_count": 2,
      "outputs": []
    },
    {
      "cell_type": "code",
      "metadata": {
        "id": "0gVbGROzJ6d5",
        "colab_type": "code",
        "colab": {}
      },
      "source": [
        "import os, sys\n",
        "import random\n",
        "import emcee as mc\n",
        "import getdist\n",
        "from getdist import plots, MCSamples\n",
        "import scipy.interpolate as interpolate\n",
        "import time\n",
        "%matplotlib inline"
      ],
      "execution_count": 3,
      "outputs": []
    },
    {
      "cell_type": "markdown",
      "metadata": {
        "id": "KHw7iiMY9lQO",
        "colab_type": "text"
      },
      "source": [
        "# Generate high dim training data"
      ]
    },
    {
      "cell_type": "code",
      "metadata": {
        "id": "5ZU94IpHKGuo",
        "colab_type": "code",
        "colab": {}
      },
      "source": [
        "size=20\n",
        "n_training = 100000\n",
        "cov_signal_fourier = np.identity(size)*np.logspace(size,size*0.9,size)/np.sum(np.logspace(size,size*0.9,size))\n",
        "cov_noise = np.identity(size)*0.1\n",
        "cov_noise_inv = np.linalg.pinv(cov_noise)"
      ],
      "execution_count": 4,
      "outputs": []
    },
    {
      "cell_type": "code",
      "metadata": {
        "id": "Wq6hdfhcKROW",
        "colab_type": "code",
        "colab": {}
      },
      "source": [
        "training_z = np.random.multivariate_normal(np.zeros(size),cov_signal_fourier,n_training) + \\\n",
        "                  1j*np.random.multivariate_normal(np.zeros(size), cov_signal_fourier,n_training)\n",
        "training_z = np.fft.fft(training_z).real\n",
        "\n",
        "training_data = training_z + np.random.multivariate_normal(np.zeros(size),cov_noise,n_training)\n",
        "\n",
        "\n",
        "training_z_obs = training_z[0]\n",
        "training_data_obs = training_data[0]\n",
        "training_z = training_z[1:]\n",
        "training_data = training_data[1:]"
      ],
      "execution_count": 5,
      "outputs": []
    },
    {
      "cell_type": "code",
      "metadata": {
        "id": "FKzVHIb-KSaZ",
        "colab_type": "code",
        "colab": {}
      },
      "source": [
        "cov_signal = np.identity(size)*0.\n",
        "\n",
        "for i in range(n_training-1):\n",
        "  cov_signal += np.outer(training_z[i],training_z[i]) \n",
        "\n",
        "cov_signal = cov_signal/np.float(n_training-1.)\n",
        "\n",
        "cov_signal_inv = np.linalg.pinv(cov_signal)"
      ],
      "execution_count": 6,
      "outputs": []
    },
    {
      "cell_type": "code",
      "metadata": {
        "id": "RIUxIVosKTmU",
        "colab_type": "code",
        "colab": {
          "base_uri": "https://localhost:8080/",
          "height": 281
        },
        "outputId": "b70e02e9-f67a-4237-ecb5-6f453e6e5803"
      },
      "source": [
        "plt.imshow(cov_signal_inv)"
      ],
      "execution_count": 7,
      "outputs": [
        {
          "output_type": "execute_result",
          "data": {
            "text/plain": [
              "<matplotlib.image.AxesImage at 0x7efdcfb17400>"
            ]
          },
          "metadata": {
            "tags": []
          },
          "execution_count": 7
        },
        {
          "output_type": "display_data",
          "data": {
            "image/png": "[encoded data removed]",
            "text/plain": [
              "<Figure size 432x288 with 1 Axes>"
            ]
          },
          "metadata": {
            "tags": [],
            "needs_background": "light"
          }
        }
      ]
    },
    {
      "cell_type": "code",
      "metadata": {
        "id": "aOtoQx6bKVa7",
        "colab_type": "code",
        "colab": {
          "base_uri": "https://localhost:8080/",
          "height": 281
        },
        "outputId": "98fa645f-ce20-42bc-d9cf-e50857067272"
      },
      "source": [
        "plt.plot(training_z_obs)\n",
        "plt.scatter(np.arange(size),training_data_obs)"
      ],
      "execution_count": 8,
      "outputs": [
        {
          "output_type": "execute_result",
          "data": {
            "text/plain": [
              "<matplotlib.collections.PathCollection at 0x7efdcf59d2e8>"
            ]
          },
          "metadata": {
            "tags": []
          },
          "execution_count": 8
        },
        {
          "output_type": "display_data",
          "data": {
            "image/png": "[encoded data removed]",
            "text/plain": [
              "<Figure size 432x288 with 1 Axes>"
            ]
          },
          "metadata": {
            "tags": [],
            "needs_background": "light"
          }
        }
      ]
    },
    {
      "cell_type": "markdown",
      "metadata": {
        "id": "7_kjnZ8F95vg",
        "colab_type": "text"
      },
      "source": [
        "# Moment network variance estimation"
      ]
    },
    {
      "cell_type": "code",
      "metadata": {
        "id": "7eZ4X4eYKzN3",
        "colab_type": "code",
        "colab": {}
      },
      "source": [
        "class simple_leaky:\n",
        "    \"\"\"\n",
        "    A simple MLP with LeakyReLU activation\n",
        "    \"\"\"\n",
        "    \n",
        "    def __init__(self, input_size, output_size, learning_rate=None):\n",
        "        \"\"\"\n",
        "        Initialisation\n",
        "        :param map_size: size of square image (there are map_size**2 pixels)\n",
        "        :param learning_rate: learning rate for the optimizer\n",
        "        \"\"\"\n",
        "        self.input_size = input_size\n",
        "        self.learning_rate = learning_rate\n",
        "        self.output_size = output_size\n",
        "        \n",
        "    def model(self):\n",
        "        print(self.input_size)\n",
        "        \n",
        "        input_data = (Input(shape=(self.input_size,)))\n",
        "\n",
        "        x1 = Dense(100, input_dim=self.input_size, kernel_initializer='normal')(input_data)\n",
        "        x1 = LeakyReLU(alpha=0.1)(x1)\n",
        "        x2 = Dense(150, kernel_initializer='normal')(x1)\n",
        "        x2 = LeakyReLU(alpha=0.1)(x2)\n",
        "        x3 = Dense(100, kernel_initializer='normal')(x2)\n",
        "        x3 = LeakyReLU(alpha=0.1)(x3)\n",
        "        x4 = Dense(self.output_size, kernel_initializer='normal')(x3)\n",
        "        \n",
        "\n",
        "        dense_model = Model(input_data, x4)\n",
        "        dense_model.summary()\n",
        "\n",
        "        if self.learning_rate is None:\n",
        "            dense_model.compile(optimizer='adam', loss='mse')\n",
        "        else:\n",
        "            dense_model.compile(optimizer=optimizers.Adam(lr=self.learning_rate), loss='mse')\n",
        "\n",
        "        return dense_model"
      ],
      "execution_count": 9,
      "outputs": []
    },
    {
      "cell_type": "code",
      "metadata": {
        "id": "hv_5J2Q_LJEX",
        "colab_type": "code",
        "colab": {
          "base_uri": "https://localhost:8080/",
          "height": 423
        },
        "outputId": "013ce3a4-6a01-4cb6-d463-e65782ea9fdc"
      },
      "source": [
        "model_instance = simple_leaky(size,size, learning_rate=1e-4)\n",
        "regression = model_instance.model()"
      ],
      "execution_count": 10,
      "outputs": [
        {
          "output_type": "stream",
          "text": [
            "20\n",
            "Model: \"functional_1\"\n",
            "_________________________________________________________________\n",
            "Layer (type)                 Output Shape              Param #   \n",
            "=================================================================\n",
            "input_1 (InputLayer)         [(None, 20)]              0         \n",
            "_________________________________________________________________\n",
            "dense (Dense)                (None, 100)               2100      \n",
            "_________________________________________________________________\n",
            "leaky_re_lu (LeakyReLU)      (None, 100)               0         \n",
            "_________________________________________________________________\n",
            "dense_1 (Dense)              (None, 150)               15150     \n",
            "_________________________________________________________________\n",
            "leaky_re_lu_1 (LeakyReLU)    (None, 150)               0         \n",
            "_________________________________________________________________\n",
            "dense_2 (Dense)              (None, 100)               15100     \n",
            "_________________________________________________________________\n",
            "leaky_re_lu_2 (LeakyReLU)    (None, 100)               0         \n",
            "_________________________________________________________________\n",
            "dense_3 (Dense)              (None, 20)                2020      \n",
            "=================================================================\n",
            "Total params: 34,370\n",
            "Trainable params: 34,370\n",
            "Non-trainable params: 0\n",
            "_________________________________________________________________\n"
          ],
          "name": "stdout"
        }
      ]
    },
    {
      "cell_type": "code",
      "metadata": {
        "id": "ZPLAud2pLSjh",
        "colab_type": "code",
        "colab": {
          "base_uri": "https://localhost:8080/",
          "height": 667
        },
        "outputId": "4e6afe93-ad61-4654-fd56-8579954c7514"
      },
      "source": [
        "history = regression.fit(training_data[:80000],\n",
        "                               training_z[:80000],\n",
        "                               epochs =20,batch_size =50, shuffle=True,\n",
        "                               validation_data = (training_data[80000:],\n",
        "                               training_z[80000:]))"
      ],
      "execution_count": 11,
      "outputs": [
        {
          "output_type": "stream",
          "text": [
            "Epoch 1/20\n",
            "1600/1600 [==============================] - 3s 2ms/step - loss: 0.3324 - val_loss: 0.1157\n",
            "Epoch 2/20\n",
            "1600/1600 [==============================] - 3s 2ms/step - loss: 0.1031 - val_loss: 0.0992\n",
            "Epoch 3/20\n",
            "1600/1600 [==============================] - 3s 2ms/step - loss: 0.0978 - val_loss: 0.0970\n",
            "Epoch 4/20\n",
            "1600/1600 [==============================] - 3s 2ms/step - loss: 0.0960 - val_loss: 0.0958\n",
            "Epoch 5/20\n",
            "1600/1600 [==============================] - 3s 2ms/step - loss: 0.0949 - val_loss: 0.0955\n",
            "Epoch 6/20\n",
            "1600/1600 [==============================] - 3s 2ms/step - loss: 0.0942 - val_loss: 0.0945\n",
            "Epoch 7/20\n",
            "1600/1600 [==============================] - 3s 2ms/step - loss: 0.0936 - val_loss: 0.0939\n",
            "Epoch 8/20\n",
            "1600/1600 [==============================] - 3s 2ms/step - loss: 0.0931 - val_loss: 0.0931\n",
            "Epoch 9/20\n",
            "1600/1600 [==============================] - 3s 2ms/step - loss: 0.0927 - val_loss: 0.0933\n",
            "Epoch 10/20\n",
            "1600/1600 [==============================] - 3s 2ms/step - loss: 0.0923 - val_loss: 0.0930\n",
            "Epoch 11/20\n",
            "1600/1600 [==============================] - 3s 2ms/step - loss: 0.0920 - val_loss: 0.0922\n",
            "Epoch 12/20\n",
            "1600/1600 [==============================] - 3s 2ms/step - loss: 0.0917 - val_loss: 0.0923\n",
            "Epoch 13/20\n",
            "1600/1600 [==============================] - 3s 2ms/step - loss: 0.0914 - val_loss: 0.0919\n",
            "Epoch 14/20\n",
            "1600/1600 [==============================] - 3s 2ms/step - loss: 0.0911 - val_loss: 0.0912\n",
            "Epoch 15/20\n",
            "1600/1600 [==============================] - 3s 2ms/step - loss: 0.0908 - val_loss: 0.0913\n",
            "Epoch 16/20\n",
            "1600/1600 [==============================] - 3s 2ms/step - loss: 0.0907 - val_loss: 0.0911\n",
            "Epoch 17/20\n",
            "1600/1600 [==============================] - 3s 2ms/step - loss: 0.0904 - val_loss: 0.0908\n",
            "Epoch 18/20\n",
            "1600/1600 [==============================] - 3s 2ms/step - loss: 0.0902 - val_loss: 0.0906\n",
            "Epoch 19/20\n",
            "1600/1600 [==============================] - 3s 2ms/step - loss: 0.0901 - val_loss: 0.0907\n",
            "Epoch 20/20\n",
            "1600/1600 [==============================] - 3s 2ms/step - loss: 0.0899 - val_loss: 0.0905\n"
          ],
          "name": "stdout"
        }
      ]
    },
    {
      "cell_type": "code",
      "metadata": {
        "id": "_eBQL-6yMOyQ",
        "colab_type": "code",
        "colab": {
          "base_uri": "https://localhost:8080/",
          "height": 382
        },
        "outputId": "10df848c-33c7-46d3-e5b6-70d4efba27a9"
      },
      "source": [
        "_ = plt.figure(figsize = (14,6))\n",
        "_ = plt.subplot(121), plt.plot(history.history['val_loss'], marker = 'o', label = 'validation')\n",
        "_ = plt.plot(history.history['loss'], marker = 'x', label = 'training'), plt.legend()\n",
        "\n",
        "_ = plt.subplot(122), plt.xscale('log')\n",
        "_ = plt.ylim(0.1*np.min(history.history['val_loss']), 4*np.max(history.history['loss']))\n",
        "_ = plt.plot(history.history['val_loss'], marker = 'o', label = 'validation')\n",
        "_ = plt.plot(history.history['loss'], marker = 'x', label = 'training'), plt.legend(), plt.ylim(3e-4,5e-4)"
      ],
      "execution_count": 12,
      "outputs": [
        {
          "output_type": "display_data",
          "data": {
            "image/png": "[encoded data removed]",
            "text/plain": [
              "<Figure size 1008x432 with 2 Axes>"
            ]
          },
          "metadata": {
            "tags": [],
            "needs_background": "light"
          }
        }
      ]
    },
    {
      "cell_type": "code",
      "metadata": {
        "id": "eXDToLYgMSZ5",
        "colab_type": "code",
        "colab": {}
      },
      "source": [
        "predicted_mean = regression.predict(np.atleast_2d(training_data))"
      ],
      "execution_count": 13,
      "outputs": []
    },
    {
      "cell_type": "code",
      "metadata": {
        "id": "qQMJLEsMMs4n",
        "colab_type": "code",
        "colab": {}
      },
      "source": [
        "training_var_unknown_mean = (training_z-regression.predict(np.atleast_2d(training_data)))**2."
      ],
      "execution_count": 14,
      "outputs": []
    },
    {
      "cell_type": "code",
      "metadata": {
        "id": "Txj-g4j6My15",
        "colab_type": "code",
        "colab": {
          "base_uri": "https://localhost:8080/",
          "height": 423
        },
        "outputId": "acfb641a-4b2e-42be-e222-ab05e09b04f5"
      },
      "source": [
        "model_instance = simple_leaky(size,size, learning_rate=1e-4)\n",
        "regression_var_unknown_mean = model_instance.model()"
      ],
      "execution_count": 15,
      "outputs": [
        {
          "output_type": "stream",
          "text": [
            "20\n",
            "Model: \"functional_3\"\n",
            "_________________________________________________________________\n",
            "Layer (type)                 Output Shape              Param #   \n",
            "=================================================================\n",
            "input_2 (InputLayer)         [(None, 20)]              0         \n",
            "_________________________________________________________________\n",
            "dense_4 (Dense)              (None, 100)               2100      \n",
            "_________________________________________________________________\n",
            "leaky_re_lu_3 (LeakyReLU)    (None, 100)               0         \n",
            "_________________________________________________________________\n",
            "dense_5 (Dense)              (None, 150)               15150     \n",
            "_________________________________________________________________\n",
            "leaky_re_lu_4 (LeakyReLU)    (None, 150)               0         \n",
            "_________________________________________________________________\n",
            "dense_6 (Dense)              (None, 100)               15100     \n",
            "_________________________________________________________________\n",
            "leaky_re_lu_5 (LeakyReLU)    (None, 100)               0         \n",
            "_________________________________________________________________\n",
            "dense_7 (Dense)              (None, 20)                2020      \n",
            "=================================================================\n",
            "Total params: 34,370\n",
            "Trainable params: 34,370\n",
            "Non-trainable params: 0\n",
            "_________________________________________________________________\n"
          ],
          "name": "stdout"
        }
      ]
    },
    {
      "cell_type": "code",
      "metadata": {
        "id": "FLqC4K93N5G9",
        "colab_type": "code",
        "colab": {
          "base_uri": "https://localhost:8080/",
          "height": 667
        },
        "outputId": "856c9400-0804-460a-a7e4-cbfeef1abccb"
      },
      "source": [
        "history = regression_var_unknown_mean.fit(training_data[:80000],\n",
        "                               training_var_unknown_mean[:80000],\n",
        "                               epochs =20,batch_size =50, shuffle=True,\n",
        "                               validation_data = (training_data[80000:],\n",
        "                               training_var_unknown_mean[80000:]))"
      ],
      "execution_count": 16,
      "outputs": [
        {
          "output_type": "stream",
          "text": [
            "Epoch 1/20\n",
            "1600/1600 [==============================] - 3s 2ms/step - loss: 0.0164 - val_loss: 0.0164\n",
            "Epoch 2/20\n",
            "1600/1600 [==============================] - 3s 2ms/step - loss: 0.0162 - val_loss: 0.0164\n",
            "Epoch 3/20\n",
            "1600/1600 [==============================] - 3s 2ms/step - loss: 0.0161 - val_loss: 0.0164\n",
            "Epoch 4/20\n",
            "1600/1600 [==============================] - 3s 2ms/step - loss: 0.0161 - val_loss: 0.0164\n",
            "Epoch 5/20\n",
            "1600/1600 [==============================] - 3s 2ms/step - loss: 0.0161 - val_loss: 0.0164\n",
            "Epoch 6/20\n",
            "1600/1600 [==============================] - 3s 2ms/step - loss: 0.0161 - val_loss: 0.0164\n",
            "Epoch 7/20\n",
            "1600/1600 [==============================] - 3s 2ms/step - loss: 0.0161 - val_loss: 0.0164\n",
            "Epoch 8/20\n",
            "1600/1600 [==============================] - 3s 2ms/step - loss: 0.0161 - val_loss: 0.0164\n",
            "Epoch 9/20\n",
            "1600/1600 [==============================] - 3s 2ms/step - loss: 0.0161 - val_loss: 0.0164\n",
            "Epoch 10/20\n",
            "1600/1600 [==============================] - 3s 2ms/step - loss: 0.0161 - val_loss: 0.0164\n",
            "Epoch 11/20\n",
            "1600/1600 [==============================] - 3s 2ms/step - loss: 0.0161 - val_loss: 0.0164\n",
            "Epoch 12/20\n",
            "1600/1600 [==============================] - 3s 2ms/step - loss: 0.0161 - val_loss: 0.0164\n",
            "Epoch 13/20\n",
            "1600/1600 [==============================] - 3s 2ms/step - loss: 0.0161 - val_loss: 0.0164\n",
            "Epoch 14/20\n",
            "1600/1600 [==============================] - 3s 2ms/step - loss: 0.0161 - val_loss: 0.0164\n",
            "Epoch 15/20\n",
            "1600/1600 [==============================] - 3s 2ms/step - loss: 0.0161 - val_loss: 0.0164\n",
            "Epoch 16/20\n",
            "1600/1600 [==============================] - 3s 2ms/step - loss: 0.0161 - val_loss: 0.0164\n",
            "Epoch 17/20\n",
            "1600/1600 [==============================] - 3s 2ms/step - loss: 0.0161 - val_loss: 0.0164\n",
            "Epoch 18/20\n",
            "1600/1600 [==============================] - 3s 2ms/step - loss: 0.0161 - val_loss: 0.0164\n",
            "Epoch 19/20\n",
            "1600/1600 [==============================] - 3s 2ms/step - loss: 0.0160 - val_loss: 0.0164\n",
            "Epoch 20/20\n",
            "1600/1600 [==============================] - 3s 2ms/step - loss: 0.0160 - val_loss: 0.0164\n"
          ],
          "name": "stdout"
        }
      ]
    },
    {
      "cell_type": "code",
      "metadata": {
        "id": "sueuUtiXO7j8",
        "colab_type": "code",
        "colab": {
          "base_uri": "https://localhost:8080/",
          "height": 82
        },
        "outputId": "ea59360b-2bc5-4ef8-81e0-2e36fa26912a"
      },
      "source": [
        "predicted_var_obs = (regression_var_unknown_mean.predict(np.atleast_2d(training_data_obs[:]))[0])\n",
        "print(predicted_var_obs)"
      ],
      "execution_count": 17,
      "outputs": [
        {
          "output_type": "stream",
          "text": [
            "[0.0913494  0.09175257 0.0984609  0.08630977 0.09629921 0.08517173\n",
            " 0.09388619 0.09815239 0.10242485 0.09514978 0.08891419 0.08757548\n",
            " 0.07541386 0.08385994 0.09365827 0.0871662  0.08847629 0.09163055\n",
            " 0.09809893 0.09461916]\n"
          ],
          "name": "stdout"
        }
      ]
    },
    {
      "cell_type": "code",
      "metadata": {
        "id": "Jn2ABpR6PHwy",
        "colab_type": "code",
        "colab": {
          "base_uri": "https://localhost:8080/",
          "height": 98
        },
        "outputId": "34efdcbe-3992-40b1-d335-ab0e7d95609c"
      },
      "source": [
        "(predicted_var_obs)"
      ],
      "execution_count": 18,
      "outputs": [
        {
          "output_type": "execute_result",
          "data": {
            "text/plain": [
              "array([0.0913494 , 0.09175257, 0.0984609 , 0.08630977, 0.09629921,\n",
              "       0.08517173, 0.09388619, 0.09815239, 0.10242485, 0.09514978,\n",
              "       0.08891419, 0.08757548, 0.07541386, 0.08385994, 0.09365827,\n",
              "       0.0871662 , 0.08847629, 0.09163055, 0.09809893, 0.09461916],\n",
              "      dtype=float32)"
            ]
          },
          "metadata": {
            "tags": []
          },
          "execution_count": 18
        }
      ]
    },
    {
      "cell_type": "markdown",
      "metadata": {
        "id": "BFtUZ62E9Zu8",
        "colab_type": "text"
      },
      "source": [
        "# Sample true posterior"
      ]
    },
    {
      "cell_type": "code",
      "metadata": {
        "id": "2i0Fwge8KWZc",
        "colab_type": "code",
        "colab": {}
      },
      "source": [
        "def log_prior(theta, data,cov_signal_inv):\n",
        "    return -0.5*np.inner(theta,np.inner(cov_signal_inv,theta))\n",
        "\n",
        "def log_likelihood(theta, data,cov_noise_inv):\n",
        "    return -0.5*np.inner(theta-data,np.inner(cov_noise_inv,theta-data))\n",
        "\n",
        "def log_posterior_delfi(theta, data,cov_signal_inv):\n",
        "    return log_prior(theta, data,cov_signal_inv) + DelfiEnsemble.log_likelihood_stacked(theta,data=data) \n",
        "\n",
        "def log_posterior_likelihood(theta, data,cov_signal_inv,cov_noise_inv):\n",
        "    return log_prior(theta, data,cov_signal_inv)  + log_likelihood(theta, data,cov_noise_inv)\n"
      ],
      "execution_count": 19,
      "outputs": []
    },
    {
      "cell_type": "code",
      "metadata": {
        "id": "Kj2z3zWVPWWi",
        "colab_type": "code",
        "colab": {}
      },
      "source": [
        "def initial_parameters(theta, relative_sigma):\n",
        "    \"\"\"\n",
        "    This is not randomise the initial position of the\n",
        "    :param theta: list/array of parameter values\n",
        "    :param relative_sigma: controls variance of random draws\n",
        "    :return: the theta array but with random shifts\n",
        "    \"\"\"\n",
        "    theta = np.array(theta)\n",
        "    return np.random.normal(theta, np.abs(theta * relative_sigma))"
      ],
      "execution_count": 20,
      "outputs": []
    },
    {
      "cell_type": "code",
      "metadata": {
        "id": "kA37ixguPXAc",
        "colab_type": "code",
        "colab": {}
      },
      "source": [
        "n_dim=size\n",
        "n_burn=100\n",
        "n_steps = 10000\n",
        "n_walkers = 2* n_dim\n",
        "\n",
        "\n",
        "\n",
        "sampler_likelihood = mc.EnsembleSampler(n_walkers, n_dim, log_posterior_likelihood,\n",
        "                             args=(training_data_obs,cov_signal_inv,cov_noise_inv,))"
      ],
      "execution_count": 21,
      "outputs": []
    },
    {
      "cell_type": "code",
      "metadata": {
        "id": "W9i0b-I0O80Y",
        "colab_type": "code",
        "colab": {}
      },
      "source": [
        "theta_expected_mean = [0.1]*size\n",
        "\n",
        "theta0 = np.array([list(initial_parameters(theta_expected_mean, 1)) for i in range(n_walkers)])"
      ],
      "execution_count": 22,
      "outputs": []
    },
    {
      "cell_type": "code",
      "metadata": {
        "id": "ulNylyBFPauw",
        "colab_type": "code",
        "colab": {
          "base_uri": "https://localhost:8080/",
          "height": 50
        },
        "outputId": "b57ceaf2-a0d3-4d54-a9f8-4b421324a0d4"
      },
      "source": [
        "t = time.time()\n",
        "_ =sampler_likelihood.run_mcmc(theta0, n_steps) \n",
        "\n",
        "print(time.time() - t)\n",
        "\n",
        "flat_samples_likelihood = sampler_likelihood.get_chain(discard=n_burn, flat=True)\n",
        "print(flat_samples_likelihood.shape)"
      ],
      "execution_count": 23,
      "outputs": [
        {
          "output_type": "stream",
          "text": [
            "7.460081577301025\n",
            "(396000, 20)\n"
          ],
          "name": "stdout"
        }
      ]
    },
    {
      "cell_type": "code",
      "metadata": {
        "id": "c1rAXXP4P_Ni",
        "colab_type": "code",
        "colab": {
          "base_uri": "https://localhost:8080/",
          "height": 82
        },
        "outputId": "e5dfdd52-5b18-4d27-bfc4-dff0ebc69660"
      },
      "source": [
        "np.var(flat_samples_likelihood,axis=0)"
      ],
      "execution_count": 24,
      "outputs": [
        {
          "output_type": "execute_result",
          "data": {
            "text/plain": [
              "array([0.08811277, 0.10494849, 0.08686464, 0.09323797, 0.0885663 ,\n",
              "       0.09150431, 0.11319144, 0.0946435 , 0.09161692, 0.09235554,\n",
              "       0.09006216, 0.09440961, 0.09080185, 0.08853304, 0.08558484,\n",
              "       0.08559443, 0.10143171, 0.0954529 , 0.08828521, 0.09569998])"
            ]
          },
          "metadata": {
            "tags": []
          },
          "execution_count": 24
        }
      ]
    },
    {
      "cell_type": "code",
      "metadata": {
        "id": "MrTcMRJXPqKc",
        "colab_type": "code",
        "colab": {
          "base_uri": "https://localhost:8080/",
          "height": 358
        },
        "outputId": "b2f55c8b-b9d2-4f55-b7c7-dda5415c5e8f"
      },
      "source": [
        "names = [\"x%s\"%i for i in range(size)]\n",
        "labels =  [\"x_%s\"%i for i in range(size)]\n",
        "samples2 = MCSamples(samples=flat_samples_likelihood,names = names, labels = labels, label='lik',\n",
        "               settings={'smooth_scale_2D':1})\n",
        "\n",
        "g = plots.get_subplot_plotter()\n",
        "g.triangle_plot([samples2], filled=True)"
      ],
      "execution_count": null,
      "outputs": [
        {
          "output_type": "stream",
          "text": [
            "Removed no burn in\n"
          ],
          "name": "stdout"
        },
        {
          "output_type": "stream",
          "text": [
            "WARNING:root:auto bandwidth for x0 very small or failed (h=0.0004574379338170606,N_eff=396000.0). Using fallback (h=0.00939312432299312)\n",
            "WARNING:root:auto bandwidth for x1 very small or failed (h=0.00046580557491538127,N_eff=396000.0). Using fallback (h=0.00803667449233908)\n",
            "WARNING:root:auto bandwidth for x2 very small or failed (h=0.0004665262527280609,N_eff=396000.0). Using fallback (h=0.009224053250578118)\n",
            "WARNING:root:auto bandwidth for x3 very small or failed (h=0.00047429793425573456,N_eff=396000.0). Using fallback (h=0.00950830900978774)\n",
            "WARNING:root:auto bandwidth for x4 very small or failed (h=0.00044754504958300273,N_eff=396000.0). Using fallback (h=0.009602214812839363)\n",
            "WARNING:root:auto bandwidth for x5 very small or failed (h=0.0004994941619178469,N_eff=396000.0). Using fallback (h=0.009313170214181982)\n",
            "WARNING:root:auto bandwidth for x6 very small or failed (h=0.0005056269273709464,N_eff=396000.0). Using fallback (h=0.00952363862309073)\n",
            "WARNING:root:auto bandwidth for x7 very small or failed (h=0.00046574305111721253,N_eff=396000.0). Using fallback (h=0.00844223878577804)\n",
            "WARNING:root:auto bandwidth for x8 very small or failed (h=0.0004552133845571787,N_eff=396000.0). Using fallback (h=0.008714484202266696)\n",
            "WARNING:root:auto bandwidth for x9 very small or failed (h=0.0004882816801188225,N_eff=396000.0). Using fallback (h=0.00935487209730972)\n",
            "WARNING:root:auto bandwidth for x10 very small or failed (h=0.00046981434697846125,N_eff=396000.0). Using fallback (h=0.0089088474491086)\n",
            "WARNING:root:auto bandwidth for x11 very small or failed (h=0.0004825246352036377,N_eff=396000.0). Using fallback (h=0.008866800254610022)\n",
            "WARNING:root:auto bandwidth for x12 very small or failed (h=0.0004949112163155009,N_eff=396000.0). Using fallback (h=0.008867922702523437)\n",
            "WARNING:root:auto bandwidth for x13 very small or failed (h=0.000461663420222597,N_eff=396000.0). Using fallback (h=0.008625529920725104)\n",
            "WARNING:root:auto bandwidth for x14 very small or failed (h=0.00047154523678494427,N_eff=396000.0). Using fallback (h=0.008809967816448465)\n",
            "WARNING:root:auto bandwidth for x15 very small or failed (h=0.00046876971825325967,N_eff=396000.0). Using fallback (h=0.00817044247117595)\n",
            "WARNING:root:auto bandwidth for x16 very small or failed (h=0.0005130598274669213,N_eff=396000.0). Using fallback (h=0.008497090822995504)\n",
            "WARNING:root:auto bandwidth for x17 very small or failed (h=0.00042900161129561887,N_eff=396000.0). Using fallback (h=0.008609193097209152)\n",
            "WARNING:root:auto bandwidth for x18 very small or failed (h=0.0005131019430169673,N_eff=396000.0). Using fallback (h=0.009218927500279238)\n",
            "WARNING:root:auto bandwidth for x19 very small or failed (h=0.000476938708284688,N_eff=396000.0). Using fallback (h=0.007759496094896052)\n"
          ],
          "name": "stderr"
        }
      ]
    },
    {
      "cell_type": "code",
      "metadata": {
        "id": "lmpmu6jaP5GV",
        "colab_type": "code",
        "colab": {}
      },
      "source": [
        ""
      ],
      "execution_count": null,
      "outputs": []
    }
  ]
}