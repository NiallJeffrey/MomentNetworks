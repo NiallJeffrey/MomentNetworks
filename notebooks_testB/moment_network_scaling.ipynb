{
  "nbformat": 4,
  "nbformat_minor": 0,
  "metadata": {
    "colab": {
      "name": "moment_network_scaling.ipynb",
      "provenance": [],
      "collapsed_sections": [],
      "authorship_tag": "ABX9TyNSXWvD9HyYQZrmp3H/f/Nm",
      "include_colab_link": true
    },
    "kernelspec": {
      "name": "python3",
      "display_name": "Python 3"
    },
    "accelerator": "GPU"
  },
  "cells": [
    {
      "cell_type": "markdown",
      "metadata": {
        "id": "view-in-github",
        "colab_type": "text"
      },
      "source": [
        "<a href=\"https://colab.research.google.com/github/NiallJeffrey/MomentNetworks/blob/master/notebooks_testB/moment_network_scaling.ipynb\" target=\"_parent\"><img src=\"https://colab.research.google.com/assets/colab-badge.svg\" alt=\"Open In Colab\"/></a>"
      ]
    },
    {
      "cell_type": "markdown",
      "metadata": {
        "id": "IWWr9ewiwO-F"
      },
      "source": [
        "### Make network estimate 2 parameter mean, variance and covariance as a function of numer of training data"
      ]
    },
    {
      "cell_type": "markdown",
      "metadata": {
        "id": "Ccg42FDSwe2T"
      },
      "source": [
        "# Load modules"
      ]
    },
    {
      "cell_type": "code",
      "metadata": {
        "id": "_JpMKZMywIRk",
        "outputId": "fc966f6d-0022-46b2-b7dd-a55ee3b67d07",
        "colab": {
          "base_uri": "https://localhost:8080/",
          "height": 358
        }
      },
      "source": [
        "!pip install emcee getdist"
      ],
      "execution_count": 1,
      "outputs": [
        {
          "output_type": "stream",
          "text": [
            "Collecting emcee\n",
            "\u001b[?25l  Downloading https://files.pythonhosted.org/packages/97/f4/00151f5f843088337c6a53edd6cbb2df340f1044d23080c662f95219cc3f/emcee-3.0.2-py2.py3-none-any.whl (41kB)\n",
            "\u001b[K     |████████████████████████████████| 51kB 2.1MB/s \n",
            "\u001b[?25hCollecting getdist\n",
            "\u001b[?25l  Downloading https://files.pythonhosted.org/packages/45/67/7a972b42e0e238ab34e43569a51bfb54f9abd05b992af0561cf003df6608/GetDist-1.1.2.tar.gz (745kB)\n",
            "\u001b[K     |████████████████████████████████| 747kB 8.1MB/s \n",
            "\u001b[?25hRequirement already satisfied: numpy in /usr/local/lib/python3.6/dist-packages (from emcee) (1.18.5)\n",
            "Requirement already satisfied: matplotlib>=2.2.0 in /usr/local/lib/python3.6/dist-packages (from getdist) (3.2.2)\n",
            "Requirement already satisfied: scipy>=1.0.0 in /usr/local/lib/python3.6/dist-packages (from getdist) (1.4.1)\n",
            "Requirement already satisfied: python-dateutil>=2.1 in /usr/local/lib/python3.6/dist-packages (from matplotlib>=2.2.0->getdist) (2.8.1)\n",
            "Requirement already satisfied: cycler>=0.10 in /usr/local/lib/python3.6/dist-packages (from matplotlib>=2.2.0->getdist) (0.10.0)\n",
            "Requirement already satisfied: pyparsing!=2.0.4,!=2.1.2,!=2.1.6,>=2.0.1 in /usr/local/lib/python3.6/dist-packages (from matplotlib>=2.2.0->getdist) (2.4.7)\n",
            "Requirement already satisfied: kiwisolver>=1.0.1 in /usr/local/lib/python3.6/dist-packages (from matplotlib>=2.2.0->getdist) (1.2.0)\n",
            "Requirement already satisfied: six>=1.5 in /usr/local/lib/python3.6/dist-packages (from python-dateutil>=2.1->matplotlib>=2.2.0->getdist) (1.15.0)\n",
            "Building wheels for collected packages: getdist\n",
            "  Building wheel for getdist (setup.py) ... \u001b[?25l\u001b[?25hdone\n",
            "  Created wheel for getdist: filename=GetDist-1.1.2-cp36-none-any.whl size=197663 sha256=1c7cbd2d5ae0ceda2ab3dc4fff3f94a528a39c3a393a13a382971708bead0f06\n",
            "  Stored in directory: /root/.cache/pip/wheels/3f/b5/8a/e3d4221e66472ed329545d7026cec59dfd379256ca42692877\n",
            "Successfully built getdist\n",
            "Installing collected packages: emcee, getdist\n",
            "Successfully installed emcee-3.0.2 getdist-1.1.2\n"
          ],
          "name": "stdout"
        }
      ]
    },
    {
      "cell_type": "code",
      "metadata": {
        "id": "0iiByvMrwJZY"
      },
      "source": [
        "import matplotlib.pyplot as plt\n",
        "import matplotlib.colors as colors\n",
        "import numpy as np\n",
        "from scipy.stats import norm\n",
        "from scipy.stats import multivariate_normal\n",
        "from scipy import fftpack\n",
        "\n",
        "from tensorflow.keras.models import Sequential\n",
        "from tensorflow.keras.layers import Dense, Dropout, LeakyReLU, Input\n",
        "from tensorflow.keras.layers import concatenate, BatchNormalization\n",
        "from tensorflow.keras.models import Model\n",
        "from tensorflow.keras import optimizers"
      ],
      "execution_count": 2,
      "outputs": []
    },
    {
      "cell_type": "code",
      "metadata": {
        "id": "oit4TEZYwjdv"
      },
      "source": [
        "import os, sys\n",
        "import random\n",
        "import emcee as mc\n",
        "import getdist\n",
        "from getdist import plots, MCSamples\n",
        "import scipy.interpolate as interpolate\n",
        "import time\n",
        "%matplotlib inline"
      ],
      "execution_count": 3,
      "outputs": []
    },
    {
      "cell_type": "code",
      "metadata": {
        "id": "MVr73IU3wk79"
      },
      "source": [
        "n_training = 200000\n",
        "size=12\n",
        "cov_signal_fourier = np.identity(size)*np.logspace(size,size*0.9,size)/np.sum(np.logspace(size,size*0.9,size))\n",
        "# cov_signal_fourier = np.identity(size)*np.logspace(size,size*0.9,size)/np.sum(np.logspace(size,size*0.9,size))\n",
        "cov_noise = np.identity(size)*4\n",
        "cov_noise_inv = np.linalg.pinv(cov_noise)"
      ],
      "execution_count": 4,
      "outputs": []
    },
    {
      "cell_type": "code",
      "metadata": {
        "id": "hOf-2xV85TUI",
        "outputId": "dfdc8273-1be2-4d2a-c7f8-f037a8199342",
        "colab": {
          "base_uri": "https://localhost:8080/",
          "height": 833
        }
      },
      "source": [
        "training_z = np.random.multivariate_normal(np.zeros(size),cov_signal_fourier,n_training) + \\\n",
        "                  1j*np.random.multivariate_normal(np.zeros(size), cov_signal_fourier,n_training)\n",
        "training_z = np.fft.fft(training_z).real\n",
        "\n",
        "cov_signal = np.identity(size)*0.\n",
        "\n",
        "\n",
        "mean_z = np.mean(training_z,axis=0)\n",
        "\n",
        "for i in range(n_training-1):\n",
        "  cov_signal += np.outer(training_z[i] - mean_z,training_z[i]-mean_z) \n",
        "\n",
        "cov_signal = cov_signal/np.float(n_training-1.)\n",
        "\n",
        "print(cov_signal[0,0]-cov_signal[0,1])\n",
        "plt.imshow(cov_signal), plt.colorbar(), plt.show()\n",
        "cov_signal_new = np.where((cov_signal<0.9)&(cov_signal>0.2),cov_signal+0.3,cov_signal)\n",
        "# cov_signal_new = cov_signal + 1.5*(cov_signal[0,0]-cov_signal[0,1])*(np.eye(size, size, 1) + np.eye(size, size, -1))\n",
        "plt.imshow(cov_signal_new), plt.colorbar(), plt.show()\n",
        "training_z = np.random.multivariate_normal(np.zeros(size),cov_signal_new,n_training)\n",
        "\n",
        "cov_signal = np.identity(size)*0.\n",
        "\n",
        "for i in range(n_training-1):\n",
        "  cov_signal += np.outer(training_z[i] - mean_z,training_z[i]-mean_z) \n",
        "\n",
        "cov_signal = cov_signal/np.float(n_training-1.)\n",
        "\n",
        "cov_signal_inv = np.linalg.pinv(cov_signal)\n",
        "\n",
        "plt.imshow(cov_signal), plt.colorbar(), plt.show()\n"
      ],
      "execution_count": 5,
      "outputs": [
        {
          "output_type": "stream",
          "text": [
            "0.7275716840068773\n"
          ],
          "name": "stdout"
        },
        {
          "output_type": "display_data",
          "data": {
            "image/png": "[encoded data removed]",
            "text/plain": [
              "<Figure size 432x288 with 2 Axes>"
            ]
          },
          "metadata": {
            "tags": [],
            "needs_background": "light"
          }
        },
        {
          "output_type": "display_data",
          "data": {
            "image/png": "[encoded data removed]",
            "text/plain": [
              "<Figure size 432x288 with 2 Axes>"
            ]
          },
          "metadata": {
            "tags": [],
            "needs_background": "light"
          }
        },
        {
          "output_type": "display_data",
          "data": {
            "image/png": "[encoded data removed]",
            "text/plain": [
              "<Figure size 432x288 with 2 Axes>"
            ]
          },
          "metadata": {
            "tags": [],
            "needs_background": "light"
          }
        },
        {
          "output_type": "execute_result",
          "data": {
            "text/plain": [
              "(<matplotlib.image.AxesImage at 0x7f8c0d19f3c8>,\n",
              " <matplotlib.colorbar.Colorbar at 0x7f8c0d1529e8>,\n",
              " None)"
            ]
          },
          "metadata": {
            "tags": []
          },
          "execution_count": 5
        }
      ]
    },
    {
      "cell_type": "code",
      "metadata": {
        "id": "w4uzcxotPIo8",
        "outputId": "563de9d7-282f-481f-f725-699a336562d0",
        "colab": {
          "base_uri": "https://localhost:8080/",
          "height": 33
        }
      },
      "source": [
        "np.max(cov_signal)"
      ],
      "execution_count": 6,
      "outputs": [
        {
          "output_type": "execute_result",
          "data": {
            "text/plain": [
              "1.009883919372303"
            ]
          },
          "metadata": {
            "tags": []
          },
          "execution_count": 6
        }
      ]
    },
    {
      "cell_type": "code",
      "metadata": {
        "id": "yPorm1dFp3Au"
      },
      "source": [
        "training_data = training_z +  np.random.multivariate_normal(np.zeros(size),cov_noise,n_training)\n",
        "\n",
        "\n",
        "# training_z_obs = [0.4215805176002967,0.6393815145750068,0.8849377727220539,0.6077305417307434,-0.8531217838033294,-0.12225528798358831,1.607681112774093,-0.8346558459419131,-0.8234095417545579,-0.08837119382949177,-0.41932094038118506,-1.1017438321572854,-0.030931945021035245,0.8875949892513813,2.5907557597830264,0.618930412473951,0.29507041051959826,0.7800988483845521,1.1114699937977721,1.0999993884249963]\n",
        "# training_data_obs = [0.06688354292573245,0.11009484176188034,0.693983815382165,0.4989298235882621,-1.0302664780894921,-0.3514696496383829,2.203795259852168,-0.6686389561702446,-1.04247753503396,0.23912911295277722,-0.05471705344253447,-0.8261390558604902,-0.09118502863604327,0.6288049299266316,2.670024954560787,0.842413488578387,0.34754753025025376,1.0929090324213837,1.300615137425332,0.89671055886374]\n",
        "training_z_obs = training_z[0]\n",
        "training_data_obs = training_data[0]\n",
        "training_z = training_z[1:]\n",
        "training_data = training_data[1:]"
      ],
      "execution_count": 7,
      "outputs": []
    },
    {
      "cell_type": "code",
      "metadata": {
        "id": "IX40aTyA6FCq",
        "outputId": "45562bfb-4eda-4894-8678-6fcd023106f2",
        "colab": {
          "base_uri": "https://localhost:8080/",
          "height": 281
        }
      },
      "source": [
        "plt.plot(training_z_obs)\n",
        "plt.scatter(np.arange(size),training_data_obs)"
      ],
      "execution_count": 8,
      "outputs": [
        {
          "output_type": "execute_result",
          "data": {
            "text/plain": [
              "<matplotlib.collections.PathCollection at 0x7f8c0d0d1f98>"
            ]
          },
          "metadata": {
            "tags": []
          },
          "execution_count": 8
        },
        {
          "output_type": "display_data",
          "data": {
            "image/png": "[encoded data removed]",
            "text/plain": [
              "<Figure size 432x288 with 1 Axes>"
            ]
          },
          "metadata": {
            "tags": [],
            "needs_background": "light"
          }
        }
      ]
    },
    {
      "cell_type": "markdown",
      "metadata": {
        "id": "DjQW1icA8_p5"
      },
      "source": [
        "# Do MCMC"
      ]
    },
    {
      "cell_type": "code",
      "metadata": {
        "id": "6vSmEgBA9CHI"
      },
      "source": [
        "def log_prior(theta, data,cov_signal_inv):\n",
        "    return -0.5*np.inner(theta,np.inner(cov_signal_inv,theta))\n",
        "\n",
        "def log_likelihood(theta, data,cov_noise_inv):\n",
        "    return -0.5*np.inner(theta-data,np.inner(cov_noise_inv,theta-data))\n",
        "\n",
        "def log_posterior_delfi(theta, data,cov_signal_inv):\n",
        "    return log_prior(theta, data,cov_signal_inv) + DelfiEnsemble.log_likelihood_stacked(theta,data=data) \n",
        "\n",
        "def log_posterior_likelihood(theta, data,cov_signal_inv,cov_noise_inv):\n",
        "    return log_prior(theta, data,cov_signal_inv)  + log_likelihood(theta, data,cov_noise_inv)\n"
      ],
      "execution_count": 9,
      "outputs": []
    },
    {
      "cell_type": "code",
      "metadata": {
        "id": "20I0MLzw9E6A"
      },
      "source": [
        "def initial_parameters(theta, relative_sigma):\n",
        "    \"\"\"\n",
        "    This is not randomise the initial position of the\n",
        "    :param theta: list/array of parameter values\n",
        "    :param relative_sigma: controls variance of random draws\n",
        "    :return: the theta array but with random shifts\n",
        "    \"\"\"\n",
        "    theta = np.array(theta)\n",
        "    return np.random.normal(theta, np.abs(theta * relative_sigma))"
      ],
      "execution_count": 10,
      "outputs": []
    },
    {
      "cell_type": "code",
      "metadata": {
        "id": "RYVaZUo39Gm9"
      },
      "source": [
        "n_dim=size\n",
        "n_burn=5000\n",
        "n_steps = 50000\n",
        "n_walkers = 2 * n_dim\n",
        "\n",
        "\n",
        "\n",
        "sampler_likelihood = mc.EnsembleSampler(n_walkers, n_dim, log_posterior_likelihood,\n",
        "                             args=(training_data_obs,cov_signal_inv,cov_noise_inv,))"
      ],
      "execution_count": 11,
      "outputs": []
    },
    {
      "cell_type": "code",
      "metadata": {
        "id": "wKNgAoOR9Mp-"
      },
      "source": [
        "theta_expected_mean = [0.1]*size\n",
        "\n",
        "theta0 = np.array([list(initial_parameters(theta_expected_mean, 1)) for i in range(n_walkers)])"
      ],
      "execution_count": 12,
      "outputs": []
    },
    {
      "cell_type": "code",
      "metadata": {
        "id": "aHcmQHVE9XZh",
        "outputId": "08a16edc-4c96-4a5f-8a7f-d8995cbe0ff7",
        "colab": {
          "base_uri": "https://localhost:8080/",
          "height": 33
        }
      },
      "source": [
        "t = time.time()\n",
        "_ =sampler_likelihood.run_mcmc(theta0, n_steps) \n",
        "\n",
        "print(time.time() - t)\n",
        "\n",
        "flat_samples_likelihood = sampler_likelihood.get_chain(discard=n_burn, flat=True)\n",
        "# print(flat_samples_likelihood.shape)\n",
        "# flat_samples_likelihood[:,1] = flat_samples_likelihood[:,1]-flat_samples_likelihood[:,0]*0.1"
      ],
      "execution_count": 13,
      "outputs": [
        {
          "output_type": "stream",
          "text": [
            "43.532845973968506\n"
          ],
          "name": "stdout"
        }
      ]
    },
    {
      "cell_type": "code",
      "metadata": {
        "id": "tfRZk8ag-m30"
      },
      "source": [
        "n_samples = flat_samples_likelihood.shape[0]"
      ],
      "execution_count": 14,
      "outputs": []
    },
    {
      "cell_type": "code",
      "metadata": {
        "id": "7k7edeXfAGS8",
        "outputId": "74841fa9-8f34-4388-b382-f3d109d771fc",
        "colab": {
          "base_uri": "https://localhost:8080/",
          "height": 268
        }
      },
      "source": [
        "intervals = np.logspace(3,np.log10(n_samples), 10, dtype=int)\n",
        "var_0 = []\n",
        "var_1 = []\n",
        "cov_01 = []\n",
        "for sub_sample in intervals:\n",
        "  covar = np.cov(flat_samples_likelihood[:sub_sample,0],flat_samples_likelihood[:sub_sample,1])\n",
        "  var_0.append(covar[0,0])\n",
        "  var_1.append(covar[1,1])\n",
        "  cov_01.append(covar[0,1])\n",
        "_ = plt.plot(intervals, var_0, 'o--')\n",
        "_ = plt.plot(intervals, var_1, marker='x')\n",
        "_ = plt.plot(intervals, cov_01, marker='s')\n",
        "_ = plt.xscale('log'), plt.yscale('log')"
      ],
      "execution_count": 15,
      "outputs": [
        {
          "output_type": "display_data",
          "data": {
            "image/png": "[encoded data removed]",
            "text/plain": [
              "<Figure size 432x288 with 1 Axes>"
            ]
          },
          "metadata": {
            "tags": [],
            "needs_background": "light"
          }
        }
      ]
    },
    {
      "cell_type": "code",
      "metadata": {
        "id": "d8YkMfH2Joq-",
        "outputId": "e6826c6c-b661-4cb6-9b50-70b0c2d1748c",
        "colab": {
          "base_uri": "https://localhost:8080/",
          "height": 362
        }
      },
      "source": [
        "samples2 = MCSamples(samples=flat_samples_likelihood[:,:2],label='lik')\n",
        "\n",
        "g = plots.get_subplot_plotter()\n",
        "g.triangle_plot([samples2], filled=True)"
      ],
      "execution_count": 16,
      "outputs": [
        {
          "output_type": "stream",
          "text": [
            "Removed no burn in\n"
          ],
          "name": "stdout"
        },
        {
          "output_type": "stream",
          "text": [
            "WARNING:root:auto bandwidth for param1 very small or failed (h=0.0005219544061915927,N_eff=1080000.0). Using fallback (h=0.007395407486284936)\n",
            "WARNING:root:fine_bins not large enough to well sample smoothing scale - param2\n",
            "WARNING:root:fine_bins_2D not large enough for optimal density\n"
          ],
          "name": "stderr"
        },
        {
          "output_type": "display_data",
          "data": {
            "image/png": "[encoded data removed]",
            "text/plain": [
              "<Figure size 288x288 with 3 Axes>"
            ]
          },
          "metadata": {
            "tags": [],
            "needs_background": "light"
          }
        }
      ]
    },
    {
      "cell_type": "code",
      "metadata": {
        "id": "8n7aQzySD3GT",
        "outputId": "5356fc1a-421f-4426-d240-d03142352587",
        "colab": {
          "base_uri": "https://localhost:8080/",
          "height": 50
        }
      },
      "source": [
        "np.cov(flat_samples_likelihood[:,0],flat_samples_likelihood[:,1])"
      ],
      "execution_count": 17,
      "outputs": [
        {
          "output_type": "execute_result",
          "data": {
            "text/plain": [
              "array([[0.7160372 , 0.34830443],\n",
              "       [0.34830443, 0.6874745 ]])"
            ]
          },
          "metadata": {
            "tags": []
          },
          "execution_count": 17
        }
      ]
    },
    {
      "cell_type": "markdown",
      "metadata": {
        "id": "X5sBXH7_9VrZ"
      },
      "source": [
        "# Moment network"
      ]
    },
    {
      "cell_type": "code",
      "metadata": {
        "id": "gd2yNrug6HEI"
      },
      "source": [
        "class simple_leaky:\n",
        "    \"\"\"\n",
        "    A simple MLP with LeakyReLU activation\n",
        "    \"\"\"\n",
        "    \n",
        "    def __init__(self, input_size, output_size, learning_rate=None):\n",
        "        \"\"\"\n",
        "        Initialisation\n",
        "        :param map_size: size of square image (there are map_size**2 pixels)\n",
        "        :param learning_rate: learning rate for the optimizer\n",
        "        \"\"\"\n",
        "        self.input_size = input_size\n",
        "        self.learning_rate = learning_rate\n",
        "        self.output_size = output_size\n",
        "        \n",
        "    def model(self):\n",
        "        print(self.input_size)\n",
        "        \n",
        "        input_data = (Input(shape=(self.input_size,)))\n",
        "\n",
        "        x1 = Dense(100, input_dim=self.input_size, kernel_initializer='normal')(input_data)\n",
        "        x1 = LeakyReLU(alpha=0.1)(x1)\n",
        "        x2 = Dense(150, kernel_initializer='normal')(x1)\n",
        "        x2 = LeakyReLU(alpha=0.1)(x2)\n",
        "        x3 = Dense(100, kernel_initializer='normal')(x2)\n",
        "        x3 = LeakyReLU(alpha=0.1)(x3)\n",
        "        x4 = Dense(self.output_size, kernel_initializer='normal')(x3)\n",
        "        \n",
        "\n",
        "        dense_model = Model(input_data, x4)\n",
        "        dense_model.summary()\n",
        "\n",
        "        if self.learning_rate is None:\n",
        "            dense_model.compile(optimizer='adam', loss='mse')\n",
        "        else:\n",
        "            dense_model.compile(optimizer=optimizers.Adam(lr=self.learning_rate), loss='mse')\n",
        "\n",
        "        return dense_model"
      ],
      "execution_count": 18,
      "outputs": []
    },
    {
      "cell_type": "code",
      "metadata": {
        "id": "-PJsDTyZ80Nd",
        "outputId": "4edbb677-43a1-49c9-bc69-b8c5f908ff88",
        "colab": {
          "base_uri": "https://localhost:8080/",
          "height": 423
        }
      },
      "source": [
        "model_instance = simple_leaky(size,2, learning_rate=1e-4)\n",
        "regression = model_instance.model()"
      ],
      "execution_count": 19,
      "outputs": [
        {
          "output_type": "stream",
          "text": [
            "12\n",
            "Model: \"functional_1\"\n",
            "_________________________________________________________________\n",
            "Layer (type)                 Output Shape              Param #   \n",
            "=================================================================\n",
            "input_1 (InputLayer)         [(None, 12)]              0         \n",
            "_________________________________________________________________\n",
            "dense (Dense)                (None, 100)               1300      \n",
            "_________________________________________________________________\n",
            "leaky_re_lu (LeakyReLU)      (None, 100)               0         \n",
            "_________________________________________________________________\n",
            "dense_1 (Dense)              (None, 150)               15150     \n",
            "_________________________________________________________________\n",
            "leaky_re_lu_1 (LeakyReLU)    (None, 150)               0         \n",
            "_________________________________________________________________\n",
            "dense_2 (Dense)              (None, 100)               15100     \n",
            "_________________________________________________________________\n",
            "leaky_re_lu_2 (LeakyReLU)    (None, 100)               0         \n",
            "_________________________________________________________________\n",
            "dense_3 (Dense)              (None, 2)                 202       \n",
            "=================================================================\n",
            "Total params: 31,752\n",
            "Trainable params: 31,752\n",
            "Non-trainable params: 0\n",
            "_________________________________________________________________\n"
          ],
          "name": "stdout"
        }
      ]
    },
    {
      "cell_type": "code",
      "metadata": {
        "id": "Sw3UmnnY81bD",
        "outputId": "bed28ae9-6b0e-4c6f-993a-0b264bff19ea",
        "colab": {
          "base_uri": "https://localhost:8080/",
          "height": 667
        }
      },
      "source": [
        "history = regression.fit(training_data[:80000],\n",
        "                               training_z[:80000,:2],\n",
        "                               epochs =20,batch_size =50, shuffle=True,\n",
        "                               validation_data = (training_data[80000:],\n",
        "                               training_z[80000:,:2]))"
      ],
      "execution_count": 20,
      "outputs": [
        {
          "output_type": "stream",
          "text": [
            "Epoch 1/20\n",
            "1600/1600 [==============================] - 7s 5ms/step - loss: 0.7381 - val_loss: 0.7080\n",
            "Epoch 2/20\n",
            "1600/1600 [==============================] - 7s 4ms/step - loss: 0.7126 - val_loss: 0.7077\n",
            "Epoch 3/20\n",
            "1600/1600 [==============================] - 7s 4ms/step - loss: 0.7117 - val_loss: 0.7072\n",
            "Epoch 4/20\n",
            "1600/1600 [==============================] - 7s 4ms/step - loss: 0.7108 - val_loss: 0.7068\n",
            "Epoch 5/20\n",
            "1600/1600 [==============================] - 7s 4ms/step - loss: 0.7104 - val_loss: 0.7083\n",
            "Epoch 6/20\n",
            "1600/1600 [==============================] - 7s 4ms/step - loss: 0.7100 - val_loss: 0.7072\n",
            "Epoch 7/20\n",
            "1600/1600 [==============================] - 7s 4ms/step - loss: 0.7096 - val_loss: 0.7073\n",
            "Epoch 8/20\n",
            "1600/1600 [==============================] - 7s 4ms/step - loss: 0.7094 - val_loss: 0.7071\n",
            "Epoch 9/20\n",
            "1600/1600 [==============================] - 7s 4ms/step - loss: 0.7089 - val_loss: 0.7081\n",
            "Epoch 10/20\n",
            "1600/1600 [==============================] - 7s 4ms/step - loss: 0.7086 - val_loss: 0.7069\n",
            "Epoch 11/20\n",
            "1600/1600 [==============================] - 7s 4ms/step - loss: 0.7083 - val_loss: 0.7086\n",
            "Epoch 12/20\n",
            "1600/1600 [==============================] - 7s 4ms/step - loss: 0.7082 - val_loss: 0.7074\n",
            "Epoch 13/20\n",
            "1600/1600 [==============================] - 7s 4ms/step - loss: 0.7077 - val_loss: 0.7069\n",
            "Epoch 14/20\n",
            "1600/1600 [==============================] - 7s 4ms/step - loss: 0.7074 - val_loss: 0.7072\n",
            "Epoch 15/20\n",
            "1600/1600 [==============================] - 7s 4ms/step - loss: 0.7071 - val_loss: 0.7079\n",
            "Epoch 16/20\n",
            "1600/1600 [==============================] - 7s 4ms/step - loss: 0.7066 - val_loss: 0.7077\n",
            "Epoch 17/20\n",
            "1600/1600 [==============================] - 7s 4ms/step - loss: 0.7065 - val_loss: 0.7085\n",
            "Epoch 18/20\n",
            "1600/1600 [==============================] - 7s 4ms/step - loss: 0.7062 - val_loss: 0.7078\n",
            "Epoch 19/20\n",
            "1600/1600 [==============================] - 7s 4ms/step - loss: 0.7059 - val_loss: 0.7096\n",
            "Epoch 20/20\n",
            "1600/1600 [==============================] - 7s 4ms/step - loss: 0.7055 - val_loss: 0.7083\n"
          ],
          "name": "stdout"
        }
      ]
    },
    {
      "cell_type": "code",
      "metadata": {
        "id": "nYjLCYR182bb"
      },
      "source": [
        "predicted_mean = regression.predict(np.atleast_2d(training_data))\n",
        "predicted_mean_obs = regression.predict(np.atleast_2d(training_data_obs))"
      ],
      "execution_count": 36,
      "outputs": []
    },
    {
      "cell_type": "code",
      "metadata": {
        "id": "k2YhhHIb84T2",
        "outputId": "dba74a8c-a176-4e74-ae68-e63e7868b761",
        "colab": {
          "base_uri": "https://localhost:8080/",
          "height": 33
        }
      },
      "source": [
        "training_var_unknown_mean = (training_z[:,:2]-regression.predict(np.atleast_2d(training_data)))**2.\n",
        "training_var_unknown_mean = np.hstack([training_var_unknown_mean,\n",
        "                                      np.atleast_2d((training_z[:,0]-regression.predict(np.atleast_2d(training_data))[:,0])*\n",
        "                                      (training_z[:,1]-regression.predict(np.atleast_2d(training_data))[:,1])).T])\n",
        "training_var_unknown_mean.shape"
      ],
      "execution_count": 22,
      "outputs": [
        {
          "output_type": "execute_result",
          "data": {
            "text/plain": [
              "(199999, 3)"
            ]
          },
          "metadata": {
            "tags": []
          },
          "execution_count": 22
        }
      ]
    },
    {
      "cell_type": "code",
      "metadata": {
        "id": "Er2bhvzq85-7",
        "outputId": "6efdae73-2031-43cf-8dbc-4efcd2b3da4b",
        "colab": {
          "base_uri": "https://localhost:8080/",
          "height": 423
        }
      },
      "source": [
        "model_instance = simple_leaky(size,3, learning_rate=1e-4)\n",
        "regression_var_unknown_mean = model_instance.model()"
      ],
      "execution_count": 23,
      "outputs": [
        {
          "output_type": "stream",
          "text": [
            "12\n",
            "Model: \"functional_3\"\n",
            "_________________________________________________________________\n",
            "Layer (type)                 Output Shape              Param #   \n",
            "=================================================================\n",
            "input_2 (InputLayer)         [(None, 12)]              0         \n",
            "_________________________________________________________________\n",
            "dense_4 (Dense)              (None, 100)               1300      \n",
            "_________________________________________________________________\n",
            "leaky_re_lu_3 (LeakyReLU)    (None, 100)               0         \n",
            "_________________________________________________________________\n",
            "dense_5 (Dense)              (None, 150)               15150     \n",
            "_________________________________________________________________\n",
            "leaky_re_lu_4 (LeakyReLU)    (None, 150)               0         \n",
            "_________________________________________________________________\n",
            "dense_6 (Dense)              (None, 100)               15100     \n",
            "_________________________________________________________________\n",
            "leaky_re_lu_5 (LeakyReLU)    (None, 100)               0         \n",
            "_________________________________________________________________\n",
            "dense_7 (Dense)              (None, 3)                 303       \n",
            "=================================================================\n",
            "Total params: 31,853\n",
            "Trainable params: 31,853\n",
            "Non-trainable params: 0\n",
            "_________________________________________________________________\n"
          ],
          "name": "stdout"
        }
      ]
    },
    {
      "cell_type": "code",
      "metadata": {
        "id": "Krdj1iX287V9",
        "outputId": "52337ea9-bfcd-4a1d-aa16-15c98645472c",
        "colab": {
          "base_uri": "https://localhost:8080/",
          "height": 667
        }
      },
      "source": [
        "history = regression_var_unknown_mean.fit(training_data[:80000],\n",
        "                               training_var_unknown_mean[:80000,:3],\n",
        "                               epochs =20,batch_size =50, shuffle=True,\n",
        "                               validation_data = (training_data[80000:],\n",
        "                               training_var_unknown_mean[80000:,:3]))"
      ],
      "execution_count": 24,
      "outputs": [
        {
          "output_type": "stream",
          "text": [
            "Epoch 1/20\n",
            "1600/1600 [==============================] - 7s 4ms/step - loss: 0.8914 - val_loss: 0.8849\n",
            "Epoch 2/20\n",
            "1600/1600 [==============================] - 7s 4ms/step - loss: 0.8718 - val_loss: 0.8819\n",
            "Epoch 3/20\n",
            "1600/1600 [==============================] - 7s 4ms/step - loss: 0.8689 - val_loss: 0.8797\n",
            "Epoch 4/20\n",
            "1600/1600 [==============================] - 7s 4ms/step - loss: 0.8669 - val_loss: 0.8789\n",
            "Epoch 5/20\n",
            "1600/1600 [==============================] - 7s 4ms/step - loss: 0.8658 - val_loss: 0.8778\n",
            "Epoch 6/20\n",
            "1600/1600 [==============================] - 7s 4ms/step - loss: 0.8650 - val_loss: 0.8787\n",
            "Epoch 7/20\n",
            "1600/1600 [==============================] - 7s 4ms/step - loss: 0.8643 - val_loss: 0.8779\n",
            "Epoch 8/20\n",
            "1600/1600 [==============================] - 7s 4ms/step - loss: 0.8638 - val_loss: 0.8796\n",
            "Epoch 9/20\n",
            "1600/1600 [==============================] - 7s 4ms/step - loss: 0.8637 - val_loss: 0.8781\n",
            "Epoch 10/20\n",
            "1600/1600 [==============================] - 7s 4ms/step - loss: 0.8632 - val_loss: 0.8792\n",
            "Epoch 11/20\n",
            "1600/1600 [==============================] - 8s 5ms/step - loss: 0.8628 - val_loss: 0.8798\n",
            "Epoch 12/20\n",
            "1600/1600 [==============================] - 7s 4ms/step - loss: 0.8623 - val_loss: 0.8788\n",
            "Epoch 13/20\n",
            "1600/1600 [==============================] - 7s 4ms/step - loss: 0.8618 - val_loss: 0.8796\n",
            "Epoch 14/20\n",
            "1600/1600 [==============================] - 7s 4ms/step - loss: 0.8617 - val_loss: 0.8791\n",
            "Epoch 15/20\n",
            "1600/1600 [==============================] - 7s 4ms/step - loss: 0.8612 - val_loss: 0.8794\n",
            "Epoch 16/20\n",
            "1600/1600 [==============================] - 7s 4ms/step - loss: 0.8607 - val_loss: 0.8799\n",
            "Epoch 17/20\n",
            "1600/1600 [==============================] - 7s 4ms/step - loss: 0.8603 - val_loss: 0.8797\n",
            "Epoch 18/20\n",
            "1600/1600 [==============================] - 7s 4ms/step - loss: 0.8601 - val_loss: 0.8795\n",
            "Epoch 19/20\n",
            "1600/1600 [==============================] - 7s 4ms/step - loss: 0.8596 - val_loss: 0.8804\n",
            "Epoch 20/20\n",
            "1600/1600 [==============================] - 8s 5ms/step - loss: 0.8589 - val_loss: 0.8805\n"
          ],
          "name": "stdout"
        }
      ]
    },
    {
      "cell_type": "code",
      "metadata": {
        "id": "yKnlgGmk89Ks",
        "outputId": "aeb22af6-0250-457a-a6ec-5930f8b881ac",
        "colab": {
          "base_uri": "https://localhost:8080/",
          "height": 33
        }
      },
      "source": [
        "predicted_var_obs = (regression_var_unknown_mean.predict(np.atleast_2d(training_data_obs[:]))[0])\n",
        "print(predicted_var_obs)"
      ],
      "execution_count": 25,
      "outputs": [
        {
          "output_type": "stream",
          "text": [
            "[0.64855975 0.6578776  0.3285656 ]\n"
          ],
          "name": "stdout"
        }
      ]
    },
    {
      "cell_type": "code",
      "metadata": {
        "id": "fUKpOTSoIXn-"
      },
      "source": [
        "likelihood_param_cov = np.cov(flat_samples_likelihood[:,0],flat_samples_likelihood[:,1])"
      ],
      "execution_count": 28,
      "outputs": []
    },
    {
      "cell_type": "code",
      "metadata": {
        "id": "0I8iLuhI0zpi"
      },
      "source": [
        "moment_network_param_cov = np.copy(likelihood_param_cov)\n",
        "moment_network_param_cov[0,0] = predicted_var_obs[0]\n",
        "moment_network_param_cov[1,1] = predicted_var_obs[1]\n",
        "moment_network_param_cov[0,1] = predicted_var_obs[2]\n",
        "moment_network_param_cov[1,0] = predicted_var_obs[2]"
      ],
      "execution_count": 29,
      "outputs": []
    },
    {
      "cell_type": "code",
      "metadata": {
        "id": "-f3R_g7FIltE"
      },
      "source": [
        "moment_network_samples = np.random.multivariate_normal(predicted_mean_obs[0],moment_network_param_cov,10000)"
      ],
      "execution_count": 40,
      "outputs": []
    },
    {
      "cell_type": "code",
      "metadata": {
        "id": "e_kNz2CS1Dlh",
        "outputId": "dfc59653-84b2-400f-9cc4-adaee08dd2f0",
        "colab": {
          "base_uri": "https://localhost:8080/",
          "height": 522
        }
      },
      "source": [
        "samples2 = MCSamples(samples=flat_samples_likelihood[:,:2],label='likelihood 12 dim MCMC')\n",
        "samples_moment = MCSamples(samples=moment_network_samples,label='moment network (2d marginal)')\n",
        "\n",
        "g = plots.get_subplot_plotter(width_inch=6)\n",
        "g.triangle_plot([samples2, samples_moment], filled=False )"
      ],
      "execution_count": 51,
      "outputs": [
        {
          "output_type": "stream",
          "text": [
            "Removed no burn in\n",
            "Removed no burn in\n"
          ],
          "name": "stdout"
        },
        {
          "output_type": "stream",
          "text": [
            "WARNING:root:auto bandwidth for param1 very small or failed (h=0.0005219544061915927,N_eff=1080000.0). Using fallback (h=0.007395407486284936)\n",
            "WARNING:root:fine_bins not large enough to well sample smoothing scale - param2\n",
            "WARNING:root:fine_bins_2D not large enough for optimal density\n"
          ],
          "name": "stderr"
        },
        {
          "output_type": "display_data",
          "data": {
            "image/png": "[encoded data removed]",
            "text/plain": [
              "<Figure size 432x432 with 3 Axes>"
            ]
          },
          "metadata": {
            "tags": [],
            "needs_background": "light"
          }
        }
      ]
    },
    {
      "cell_type": "code",
      "metadata": {
        "id": "LqKxStZF1huf",
        "outputId": "cca342d2-592a-42c7-a34d-520015479c20",
        "colab": {
          "base_uri": "https://localhost:8080/",
          "height": 33
        }
      },
      "source": [
        "print(5)"
      ],
      "execution_count": 1,
      "outputs": [
        {
          "output_type": "stream",
          "text": [
            "5\n"
          ],
          "name": "stdout"
        }
      ]
    },
    {
      "cell_type": "code",
      "metadata": {
        "id": "LvuK5hPrEYLF"
      },
      "source": [
        ""
      ],
      "execution_count": null,
      "outputs": []
    }
  ]
}